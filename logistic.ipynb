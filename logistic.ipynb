{
 "cells": [
  {
   "cell_type": "code",
   "execution_count": 6,
   "id": "882cb419",
   "metadata": {
    "scrolled": true
   },
   "outputs": [
    {
     "name": "stdout",
     "output_type": "stream",
     "text": [
      "Classifier accuracy: 0.9056083358872203\n",
      "              precision    recall  f1-score   support\n",
      "\n",
      "           0       0.91      0.91      0.91      1643\n",
      "           1       0.90      0.91      0.90      1620\n",
      "\n",
      "    accuracy                           0.91      3263\n",
      "   macro avg       0.91      0.91      0.91      3263\n",
      "weighted avg       0.91      0.91      0.91      3263\n",
      "\n"
     ]
    }
   ],
   "source": [
    "from sklearn.feature_extraction.text import TfidfVectorizer\n",
    "from sklearn.feature_selection import SelectKBest, chi2\n",
    "from sklearn.model_selection import train_test_split\n",
    "from sklearn.linear_model import LogisticRegression\n",
    "from sklearn.metrics import accuracy_score, classification_report\n",
    "from imblearn.over_sampling import SMOTE\n",
    "import pandas as pd\n",
    "\n",
    "# Read data\n",
    "df = pd.read_csv('CFPB with preprocessing')\n",
    "\n",
    "# Calculate y_target based on 'product' column\n",
    "df['y_target'] = (df['Product'] == 'Debt collection').astype(int)\n",
    "\n",
    "# Vectorize the text data with 4-grams\n",
    "vectorizer = TfidfVectorizer(ngram_range=(1,4))\n",
    "X = vectorizer.fit_transform(df['unigram_narr'].values.astype('U'))\n",
    "\n",
    "# Select top 10000 features\n",
    "X_new = SelectKBest(chi2, k=10000).fit_transform(X, df['y_target'])\n",
    "\n",
    "# Apply SMOTE oversampling\n",
    "smote = SMOTE(random_state=42)\n",
    "X_resampled, y_resampled = smote.fit_resample(X_new, df['y_target']) #undersample uppersample\n",
    "\n",
    "# Split data into training and test sets\n",
    "X_train, X_test, y_train, y_test = train_test_split(X_resampled, y_resampled, test_size=0.2, random_state=42)\n",
    "\n",
    "# Initialize a LogisticRegression model\n",
    "clf = LogisticRegression(random_state=42)\n",
    "\n",
    "# Train the model\n",
    "clf.fit(X_train, y_train)\n",
    "\n",
    "# Make predictions with the classifier\n",
    "y_pred = clf.predict(X_test)\n",
    "\n",
    "# Calculate and print accuracy of the classifier\n",
    "accuracy = accuracy_score(y_test, y_pred)\n",
    "print(\"Classifier accuracy:\", accuracy)\n",
    "\n",
    "# Print classification report\n",
    "print(classification_report(y_test, y_pred))\n"
   ]
  },
  {
   "cell_type": "code",
   "execution_count": 8,
   "id": "4da1de65",
   "metadata": {},
   "outputs": [
    {
     "name": "stdout",
     "output_type": "stream",
     "text": [
      "Number of selected features: 10000\n"
     ]
    }
   ],
   "source": [
    "print(\"Number of selected features:\", X_new.shape[1])"
   ]
  },
  {
   "cell_type": "code",
   "execution_count": 4,
   "id": "355124d6",
   "metadata": {},
   "outputs": [
    {
     "name": "stdout",
     "output_type": "stream",
     "text": [
      "Classifier accuracy: 0.9589334967821024\n",
      "              precision    recall  f1-score   support\n",
      "\n",
      "           0       0.96      0.96      0.96      1643\n",
      "           1       0.96      0.95      0.96      1620\n",
      "\n",
      "    accuracy                           0.96      3263\n",
      "   macro avg       0.96      0.96      0.96      3263\n",
      "weighted avg       0.96      0.96      0.96      3263\n",
      "\n"
     ]
    }
   ],
   "source": [
    "from sklearn.linear_model import LogisticRegression\n",
    "from sklearn.feature_extraction.text import TfidfVectorizer\n",
    "from sklearn.model_selection import train_test_split\n",
    "from sklearn.metrics import accuracy_score, classification_report\n",
    "from imblearn.over_sampling import SMOTE\n",
    "\n",
    "# Read data\n",
    "df = pd.read_csv('CFPB with preprocessing')\n",
    "\n",
    "# Calculate y_target based on 'product' column\n",
    "df['y_target'] = (df['Product'] == 'Debt collection').astype(int)\n",
    "\n",
    "# Vectorize the text data with 4-grams\n",
    "vectorizer = TfidfVectorizer(ngram_range=(1,4))\n",
    "X = vectorizer.fit_transform(df['unigram_narr'].values.astype('U'))\n",
    "\n",
    "# Apply SMOTE oversampling\n",
    "smote = SMOTE(random_state=42)\n",
    "X_resampled, y_resampled = smote.fit_resample(X, df['y_target'])\n",
    "\n",
    "# Split data into training and test sets\n",
    "X_train, X_test, y_train, y_test = train_test_split(X_resampled, y_resampled, test_size=0.2, random_state=42)\n",
    "\n",
    "# Initialize a LogisticRegression model\n",
    "clf = LogisticRegression(random_state=42)\n",
    "\n",
    "# Train the model\n",
    "clf.fit(X_train, y_train)\n",
    "\n",
    "# Make predictions with the classifier\n",
    "y_pred = clf.predict(X_test)\n",
    "\n",
    "# Calculate and print accuracy of the classifier\n",
    "accuracy = accuracy_score(y_test, y_pred)\n",
    "print(\"Classifier accuracy:\", accuracy)\n",
    "\n",
    "# Print classification report\n",
    "print(classification_report(y_test, y_pred))\n"
   ]
  },
  {
   "cell_type": "code",
   "execution_count": 7,
   "id": "7d843f18",
   "metadata": {},
   "outputs": [
    {
     "name": "stdout",
     "output_type": "stream",
     "text": [
      "Number of features: 2405449\n"
     ]
    }
   ],
   "source": [
    "# Get the feature names\n",
    "features = vectorizer.get_feature_names_out()\n",
    "\n",
    "# Print the number of features\n",
    "print(\"Number of features:\", len(features))"
   ]
  }
 ],
 "metadata": {
  "kernelspec": {
   "display_name": "Python 3 (ipykernel)",
   "language": "python",
   "name": "python3"
  },
  "language_info": {
   "codemirror_mode": {
    "name": "ipython",
    "version": 3
   },
   "file_extension": ".py",
   "mimetype": "text/x-python",
   "name": "python",
   "nbconvert_exporter": "python",
   "pygments_lexer": "ipython3",
   "version": "3.9.13"
  }
 },
 "nbformat": 4,
 "nbformat_minor": 5
}
