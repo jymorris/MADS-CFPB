{
 "cells": [
  {
   "cell_type": "code",
   "execution_count": 1,
   "id": "96a906dd",
   "metadata": {},
   "outputs": [],
   "source": [
    "import pandas as pd\n",
    "import numpy as np"
   ]
  },
  {
   "cell_type": "code",
   "execution_count": 2,
   "id": "66bac054",
   "metadata": {},
   "outputs": [
    {
     "name": "stderr",
     "output_type": "stream",
     "text": [
      "[nltk_data] Downloading package stopwords to\n",
      "[nltk_data]     C:\\Users\\JYM\\AppData\\Roaming\\nltk_data...\n",
      "[nltk_data]   Package stopwords is already up-to-date!\n",
      "[nltk_data] Downloading package wordnet to\n",
      "[nltk_data]     C:\\Users\\JYM\\AppData\\Roaming\\nltk_data...\n",
      "[nltk_data]   Package wordnet is already up-to-date!\n",
      "[nltk_data] Downloading package omw-1.4 to\n",
      "[nltk_data]     C:\\Users\\JYM\\AppData\\Roaming\\nltk_data...\n",
      "[nltk_data]   Package omw-1.4 is already up-to-date!\n"
     ]
    }
   ],
   "source": [
    "# for processing\n",
    "import re\n",
    "import nltk\n",
    "from nltk.corpus import stopwords\n",
    "from nltk.tokenize import word_tokenize\n",
    "nltk.download('stopwords')\n",
    "nltk.download('wordnet')\n",
    "nltk.download('omw-1.4')\n",
    "\n",
    "# for bag-of-words\n",
    "from sklearn import feature_extraction, feature_selection, model_selection, naive_bayes, pipeline, manifold, preprocessing, metrics\n",
    "from sklearn.model_selection import train_test_split\n",
    "from sklearn.utils import resample\n",
    "\n",
    "## for train test split\n",
    "import imblearn"
   ]
  },
  {
   "cell_type": "code",
   "execution_count": 3,
   "id": "85ae6e77",
   "metadata": {},
   "outputs": [
    {
     "data": {
      "text/html": [
       "<style>.container { width:100% !important; }</style>"
      ],
      "text/plain": [
       "<IPython.core.display.HTML object>"
      ]
     },
     "metadata": {},
     "output_type": "display_data"
    }
   ],
   "source": [
    "from IPython.display import display, HTML\n",
    "display(HTML(\"<style>.container { width:100% !important; }</style>\"))"
   ]
  },
  {
   "cell_type": "code",
   "execution_count": 4,
   "id": "408b68cb",
   "metadata": {},
   "outputs": [
    {
     "name": "stderr",
     "output_type": "stream",
     "text": [
      "C:\\Users\\JYM\\AppData\\Local\\Temp/ipykernel_3924/889607879.py:1: DtypeWarning: Columns (10) have mixed types. Specify dtype option on import or set low_memory=False.\n",
      "  cfpb_df = pd.read_csv('../../data/CFPB with Duplicate Marked.csv')\n"
     ]
    },
    {
     "name": "stdout",
     "output_type": "stream",
     "text": [
      "Index(['Unnamed: 0', 'Date received', 'Product', 'Sub-product', 'Issue',\n",
      "       'Sub-issue', 'Consumer complaint narrative', 'Company public response',\n",
      "       'Company', 'State', 'ZIP code', 'Tags', 'Consumer consent provided?',\n",
      "       'Submitted via', 'Date sent to company', 'Company response to consumer',\n",
      "       'Timely response?', 'Consumer disputed?', 'Complaint ID', 'narr_len',\n",
      "       'days_to_today', 'dupi_id', 'dupi_len'],\n",
      "      dtype='object')\n",
      "(1300361, 23)\n"
     ]
    }
   ],
   "source": [
    "cfpb_df = pd.read_csv('../../data/CFPB with Duplicate Marked.csv')\n",
    "print(cfpb_df.columns)\n",
    "print(cfpb_df.shape)"
   ]
  },
  {
   "cell_type": "code",
   "execution_count": 5,
   "id": "a0dc6158",
   "metadata": {},
   "outputs": [
    {
     "name": "stdout",
     "output_type": "stream",
     "text": [
      "(1106587, 23)\n",
      "Wall time: 455 ms\n"
     ]
    }
   ],
   "source": [
    "%%time\n",
    "# Drop duplicates based on 'dupi_id' column\n",
    "cfpb_df = cfpb_df.drop_duplicates(subset='dupi_id')\n",
    "print(cfpb_df.shape)"
   ]
  },
  {
   "cell_type": "markdown",
   "id": "be207d97",
   "metadata": {},
   "source": [
    "### Some cleaning and normalizing while trying to keep some the context of data\n",
    "\n",
    "our first try without any normalization did not yield good results, the accuracy was below 50% and the recal for debtcollection is very low"
   ]
  },
  {
   "cell_type": "code",
   "execution_count": 6,
   "id": "9eb5388b",
   "metadata": {},
   "outputs": [],
   "source": [
    "## our choices of stop words\n",
    "lst_stopwords = nltk.corpus.stopwords.words('english')\n",
    "#our choice of stemmer\n",
    "stemm=nltk.stem.porter.PorterStemmer()\n",
    "#our choice of lemmatizer\n",
    "lemm=nltk.stem.wordnet.WordNetLemmatizer()\n",
    "\n",
    "\n",
    "def nltk_text_normalizer(text):\n",
    "    \n",
    "    '''\n",
    "    Preprocess a string using nltk tools.\n",
    "    you need to import nltk\n",
    "    download nltk.download('wordnet')\n",
    "    and from nltk.stem import WordNetLemmatizer\n",
    "    :parameter\n",
    "        :param text: string - name of column containing text\n",
    "        :param stemm: object - stemmer to be used like nltk.stem.porter.PorterStemmer()\n",
    "        :param lemm: object - lemmatizer() to be used, like WordNetLemmatizer() \n",
    "        :param case_folding - whether text will be convert to lower case\n",
    "        :param lst_stopwords - words to be moved\n",
    "    :return\n",
    "        cleaned text\n",
    "    '''\n",
    "    \n",
    "    ## First we will clean up the XXXX maskings in the text created by CFPB\n",
    "    text = re.sub(r'X{2,}', '', str(text).strip())\n",
    "    \n",
    "    ## clean (convert to lowercase and remove punctuations and characters and then strip)\n",
    "    text = re.sub(r'[^\\w\\s]', '', text)\n",
    "    ## clean (convert to lowercase and remove punctuations and characters and then strip)\n",
    "    text = text.lower().strip()\n",
    "            \n",
    "    ## Tokenize (convert from string to list)\n",
    "    ## split is the simplest way\n",
    "    # lst_text = text.split()\n",
    "    ## here we use nltk tools to tokenize a text\n",
    "    lst_text = word_tokenize(text)\n",
    "    \n",
    "    ## remove Stopwords\n",
    "    # lst_text = [word for word in lst_text if word not in lst_stopwords]\n",
    "                \n",
    "    ## Lemmatisation (convert the word into root word)\n",
    "    lst_text = [lemm.lemmatize(word) for word in lst_text]\n",
    "        \n",
    "    ## Stemming (remove -ing, -ly, ...)\n",
    "    ## This stemming parts works pretty bad, but is faster and simplified version of Lemmatization\n",
    "    lst_text = [stemm.stem(word) for word in lst_text]\n",
    "            \n",
    "    ## back to string from list\n",
    "    text = \" \".join(lst_text)\n",
    "    return text\n",
    "\n",
    "def normalize_narr(df):\n",
    "    df['Consumer complaint narrative'] = df['Consumer complaint narrative'].apply(nltk_text_normalizer)\n",
    "    return df"
   ]
  },
  {
   "cell_type": "code",
   "execution_count": 7,
   "id": "81bf2a00",
   "metadata": {},
   "outputs": [
    {
     "ename": "KeyboardInterrupt",
     "evalue": "",
     "output_type": "error",
     "traceback": [
      "\u001b[1;31m---------------------------------------------------------------------------\u001b[0m",
      "\u001b[1;31mKeyboardInterrupt\u001b[0m                         Traceback (most recent call last)",
      "\u001b[1;32m<timed exec>\u001b[0m in \u001b[0;36m<module>\u001b[1;34m\u001b[0m\n",
      "\u001b[1;32m~\\anaconda3\\lib\\site-packages\\pandas\\core\\groupby\\groupby.py\u001b[0m in \u001b[0;36mapply\u001b[1;34m(self, func, *args, **kwargs)\u001b[0m\n\u001b[0;32m   1421\u001b[0m         \u001b[1;32mwith\u001b[0m \u001b[0moption_context\u001b[0m\u001b[1;33m(\u001b[0m\u001b[1;34m\"mode.chained_assignment\"\u001b[0m\u001b[1;33m,\u001b[0m \u001b[1;32mNone\u001b[0m\u001b[1;33m)\u001b[0m\u001b[1;33m:\u001b[0m\u001b[1;33m\u001b[0m\u001b[1;33m\u001b[0m\u001b[0m\n\u001b[0;32m   1422\u001b[0m             \u001b[1;32mtry\u001b[0m\u001b[1;33m:\u001b[0m\u001b[1;33m\u001b[0m\u001b[1;33m\u001b[0m\u001b[0m\n\u001b[1;32m-> 1423\u001b[1;33m                 \u001b[0mresult\u001b[0m \u001b[1;33m=\u001b[0m \u001b[0mself\u001b[0m\u001b[1;33m.\u001b[0m\u001b[0m_python_apply_general\u001b[0m\u001b[1;33m(\u001b[0m\u001b[0mf\u001b[0m\u001b[1;33m,\u001b[0m \u001b[0mself\u001b[0m\u001b[1;33m.\u001b[0m\u001b[0m_selected_obj\u001b[0m\u001b[1;33m)\u001b[0m\u001b[1;33m\u001b[0m\u001b[1;33m\u001b[0m\u001b[0m\n\u001b[0m\u001b[0;32m   1424\u001b[0m             \u001b[1;32mexcept\u001b[0m \u001b[0mTypeError\u001b[0m\u001b[1;33m:\u001b[0m\u001b[1;33m\u001b[0m\u001b[1;33m\u001b[0m\u001b[0m\n\u001b[0;32m   1425\u001b[0m                 \u001b[1;31m# gh-20949\u001b[0m\u001b[1;33m\u001b[0m\u001b[1;33m\u001b[0m\u001b[0m\n",
      "\u001b[1;32m~\\anaconda3\\lib\\site-packages\\pandas\\core\\groupby\\groupby.py\u001b[0m in \u001b[0;36m_python_apply_general\u001b[1;34m(self, f, data, not_indexed_same)\u001b[0m\n\u001b[0;32m   1462\u001b[0m             \u001b[0mdata\u001b[0m \u001b[0mafter\u001b[0m \u001b[0mapplying\u001b[0m \u001b[0mf\u001b[0m\u001b[1;33m\u001b[0m\u001b[1;33m\u001b[0m\u001b[0m\n\u001b[0;32m   1463\u001b[0m         \"\"\"\n\u001b[1;32m-> 1464\u001b[1;33m         \u001b[0mvalues\u001b[0m\u001b[1;33m,\u001b[0m \u001b[0mmutated\u001b[0m \u001b[1;33m=\u001b[0m \u001b[0mself\u001b[0m\u001b[1;33m.\u001b[0m\u001b[0mgrouper\u001b[0m\u001b[1;33m.\u001b[0m\u001b[0mapply\u001b[0m\u001b[1;33m(\u001b[0m\u001b[0mf\u001b[0m\u001b[1;33m,\u001b[0m \u001b[0mdata\u001b[0m\u001b[1;33m,\u001b[0m \u001b[0mself\u001b[0m\u001b[1;33m.\u001b[0m\u001b[0maxis\u001b[0m\u001b[1;33m)\u001b[0m\u001b[1;33m\u001b[0m\u001b[1;33m\u001b[0m\u001b[0m\n\u001b[0m\u001b[0;32m   1465\u001b[0m \u001b[1;33m\u001b[0m\u001b[0m\n\u001b[0;32m   1466\u001b[0m         \u001b[1;32mif\u001b[0m \u001b[0mnot_indexed_same\u001b[0m \u001b[1;32mis\u001b[0m \u001b[1;32mNone\u001b[0m\u001b[1;33m:\u001b[0m\u001b[1;33m\u001b[0m\u001b[1;33m\u001b[0m\u001b[0m\n",
      "\u001b[1;32m~\\anaconda3\\lib\\site-packages\\pandas\\core\\groupby\\ops.py\u001b[0m in \u001b[0;36mapply\u001b[1;34m(self, f, data, axis)\u001b[0m\n\u001b[0;32m    759\u001b[0m             \u001b[1;31m# group might be modified\u001b[0m\u001b[1;33m\u001b[0m\u001b[1;33m\u001b[0m\u001b[0m\n\u001b[0;32m    760\u001b[0m             \u001b[0mgroup_axes\u001b[0m \u001b[1;33m=\u001b[0m \u001b[0mgroup\u001b[0m\u001b[1;33m.\u001b[0m\u001b[0maxes\u001b[0m\u001b[1;33m\u001b[0m\u001b[1;33m\u001b[0m\u001b[0m\n\u001b[1;32m--> 761\u001b[1;33m             \u001b[0mres\u001b[0m \u001b[1;33m=\u001b[0m \u001b[0mf\u001b[0m\u001b[1;33m(\u001b[0m\u001b[0mgroup\u001b[0m\u001b[1;33m)\u001b[0m\u001b[1;33m\u001b[0m\u001b[1;33m\u001b[0m\u001b[0m\n\u001b[0m\u001b[0;32m    762\u001b[0m             \u001b[1;32mif\u001b[0m \u001b[1;32mnot\u001b[0m \u001b[0mmutated\u001b[0m \u001b[1;32mand\u001b[0m \u001b[1;32mnot\u001b[0m \u001b[0m_is_indexed_like\u001b[0m\u001b[1;33m(\u001b[0m\u001b[0mres\u001b[0m\u001b[1;33m,\u001b[0m \u001b[0mgroup_axes\u001b[0m\u001b[1;33m,\u001b[0m \u001b[0maxis\u001b[0m\u001b[1;33m)\u001b[0m\u001b[1;33m:\u001b[0m\u001b[1;33m\u001b[0m\u001b[1;33m\u001b[0m\u001b[0m\n\u001b[0;32m    763\u001b[0m                 \u001b[0mmutated\u001b[0m \u001b[1;33m=\u001b[0m \u001b[1;32mTrue\u001b[0m\u001b[1;33m\u001b[0m\u001b[1;33m\u001b[0m\u001b[0m\n",
      "\u001b[1;32m~\\AppData\\Local\\Temp/ipykernel_3924/2688346519.py\u001b[0m in \u001b[0;36mnormalize_narr\u001b[1;34m(df)\u001b[0m\n\u001b[0;32m     53\u001b[0m \u001b[1;33m\u001b[0m\u001b[0m\n\u001b[0;32m     54\u001b[0m \u001b[1;32mdef\u001b[0m \u001b[0mnormalize_narr\u001b[0m\u001b[1;33m(\u001b[0m\u001b[0mdf\u001b[0m\u001b[1;33m)\u001b[0m\u001b[1;33m:\u001b[0m\u001b[1;33m\u001b[0m\u001b[1;33m\u001b[0m\u001b[0m\n\u001b[1;32m---> 55\u001b[1;33m     \u001b[0mdf\u001b[0m\u001b[1;33m[\u001b[0m\u001b[1;34m'Consumer complaint narrative'\u001b[0m\u001b[1;33m]\u001b[0m \u001b[1;33m=\u001b[0m \u001b[0mdf\u001b[0m\u001b[1;33m[\u001b[0m\u001b[1;34m'Consumer complaint narrative'\u001b[0m\u001b[1;33m]\u001b[0m\u001b[1;33m.\u001b[0m\u001b[0mapply\u001b[0m\u001b[1;33m(\u001b[0m\u001b[0mnltk_text_normalizer\u001b[0m\u001b[1;33m)\u001b[0m\u001b[1;33m\u001b[0m\u001b[1;33m\u001b[0m\u001b[0m\n\u001b[0m\u001b[0;32m     56\u001b[0m     \u001b[1;32mreturn\u001b[0m \u001b[0mdf\u001b[0m\u001b[1;33m\u001b[0m\u001b[1;33m\u001b[0m\u001b[0m\n",
      "\u001b[1;32m~\\anaconda3\\lib\\site-packages\\pandas\\core\\frame.py\u001b[0m in \u001b[0;36m__setitem__\u001b[1;34m(self, key, value)\u001b[0m\n\u001b[0;32m   3653\u001b[0m         \u001b[1;32melse\u001b[0m\u001b[1;33m:\u001b[0m\u001b[1;33m\u001b[0m\u001b[1;33m\u001b[0m\u001b[0m\n\u001b[0;32m   3654\u001b[0m             \u001b[1;31m# set column\u001b[0m\u001b[1;33m\u001b[0m\u001b[1;33m\u001b[0m\u001b[0m\n\u001b[1;32m-> 3655\u001b[1;33m             \u001b[0mself\u001b[0m\u001b[1;33m.\u001b[0m\u001b[0m_set_item\u001b[0m\u001b[1;33m(\u001b[0m\u001b[0mkey\u001b[0m\u001b[1;33m,\u001b[0m \u001b[0mvalue\u001b[0m\u001b[1;33m)\u001b[0m\u001b[1;33m\u001b[0m\u001b[1;33m\u001b[0m\u001b[0m\n\u001b[0m\u001b[0;32m   3656\u001b[0m \u001b[1;33m\u001b[0m\u001b[0m\n\u001b[0;32m   3657\u001b[0m     \u001b[1;32mdef\u001b[0m \u001b[0m_setitem_slice\u001b[0m\u001b[1;33m(\u001b[0m\u001b[0mself\u001b[0m\u001b[1;33m,\u001b[0m \u001b[0mkey\u001b[0m\u001b[1;33m:\u001b[0m \u001b[0mslice\u001b[0m\u001b[1;33m,\u001b[0m \u001b[0mvalue\u001b[0m\u001b[1;33m)\u001b[0m\u001b[1;33m:\u001b[0m\u001b[1;33m\u001b[0m\u001b[1;33m\u001b[0m\u001b[0m\n",
      "\u001b[1;32m~\\anaconda3\\lib\\site-packages\\pandas\\core\\frame.py\u001b[0m in \u001b[0;36m_set_item\u001b[1;34m(self, key, value)\u001b[0m\n\u001b[0;32m   3843\u001b[0m                     \u001b[0mvalue\u001b[0m \u001b[1;33m=\u001b[0m \u001b[0mnp\u001b[0m\u001b[1;33m.\u001b[0m\u001b[0mtile\u001b[0m\u001b[1;33m(\u001b[0m\u001b[0mvalue\u001b[0m\u001b[1;33m,\u001b[0m \u001b[1;33m(\u001b[0m\u001b[0mlen\u001b[0m\u001b[1;33m(\u001b[0m\u001b[0mexisting_piece\u001b[0m\u001b[1;33m.\u001b[0m\u001b[0mcolumns\u001b[0m\u001b[1;33m)\u001b[0m\u001b[1;33m,\u001b[0m \u001b[1;36m1\u001b[0m\u001b[1;33m)\u001b[0m\u001b[1;33m)\u001b[0m\u001b[1;33m.\u001b[0m\u001b[0mT\u001b[0m\u001b[1;33m\u001b[0m\u001b[1;33m\u001b[0m\u001b[0m\n\u001b[0;32m   3844\u001b[0m \u001b[1;33m\u001b[0m\u001b[0m\n\u001b[1;32m-> 3845\u001b[1;33m         \u001b[0mself\u001b[0m\u001b[1;33m.\u001b[0m\u001b[0m_set_item_mgr\u001b[0m\u001b[1;33m(\u001b[0m\u001b[0mkey\u001b[0m\u001b[1;33m,\u001b[0m \u001b[0mvalue\u001b[0m\u001b[1;33m)\u001b[0m\u001b[1;33m\u001b[0m\u001b[1;33m\u001b[0m\u001b[0m\n\u001b[0m\u001b[0;32m   3846\u001b[0m \u001b[1;33m\u001b[0m\u001b[0m\n\u001b[0;32m   3847\u001b[0m     def _set_value(\n",
      "\u001b[1;32m~\\anaconda3\\lib\\site-packages\\pandas\\core\\frame.py\u001b[0m in \u001b[0;36m_set_item_mgr\u001b[1;34m(self, key, value)\u001b[0m\n\u001b[0;32m   3802\u001b[0m             \u001b[0mself\u001b[0m\u001b[1;33m.\u001b[0m\u001b[0m_mgr\u001b[0m\u001b[1;33m.\u001b[0m\u001b[0minsert\u001b[0m\u001b[1;33m(\u001b[0m\u001b[0mlen\u001b[0m\u001b[1;33m(\u001b[0m\u001b[0mself\u001b[0m\u001b[1;33m.\u001b[0m\u001b[0m_info_axis\u001b[0m\u001b[1;33m)\u001b[0m\u001b[1;33m,\u001b[0m \u001b[0mkey\u001b[0m\u001b[1;33m,\u001b[0m \u001b[0mvalue\u001b[0m\u001b[1;33m)\u001b[0m\u001b[1;33m\u001b[0m\u001b[1;33m\u001b[0m\u001b[0m\n\u001b[0;32m   3803\u001b[0m         \u001b[1;32melse\u001b[0m\u001b[1;33m:\u001b[0m\u001b[1;33m\u001b[0m\u001b[1;33m\u001b[0m\u001b[0m\n\u001b[1;32m-> 3804\u001b[1;33m             \u001b[0mself\u001b[0m\u001b[1;33m.\u001b[0m\u001b[0m_iset_item_mgr\u001b[0m\u001b[1;33m(\u001b[0m\u001b[0mloc\u001b[0m\u001b[1;33m,\u001b[0m \u001b[0mvalue\u001b[0m\u001b[1;33m)\u001b[0m\u001b[1;33m\u001b[0m\u001b[1;33m\u001b[0m\u001b[0m\n\u001b[0m\u001b[0;32m   3805\u001b[0m \u001b[1;33m\u001b[0m\u001b[0m\n\u001b[0;32m   3806\u001b[0m         \u001b[1;31m# check if we are modifying a copy\u001b[0m\u001b[1;33m\u001b[0m\u001b[1;33m\u001b[0m\u001b[0m\n",
      "\u001b[1;32m~\\anaconda3\\lib\\site-packages\\pandas\\core\\frame.py\u001b[0m in \u001b[0;36m_iset_item_mgr\u001b[1;34m(self, loc, value, inplace)\u001b[0m\n\u001b[0;32m   3792\u001b[0m     ) -> None:\n\u001b[0;32m   3793\u001b[0m         \u001b[1;31m# when called from _set_item_mgr loc can be anything returned from get_loc\u001b[0m\u001b[1;33m\u001b[0m\u001b[1;33m\u001b[0m\u001b[0m\n\u001b[1;32m-> 3794\u001b[1;33m         \u001b[0mself\u001b[0m\u001b[1;33m.\u001b[0m\u001b[0m_mgr\u001b[0m\u001b[1;33m.\u001b[0m\u001b[0miset\u001b[0m\u001b[1;33m(\u001b[0m\u001b[0mloc\u001b[0m\u001b[1;33m,\u001b[0m \u001b[0mvalue\u001b[0m\u001b[1;33m,\u001b[0m \u001b[0minplace\u001b[0m\u001b[1;33m=\u001b[0m\u001b[0minplace\u001b[0m\u001b[1;33m)\u001b[0m\u001b[1;33m\u001b[0m\u001b[1;33m\u001b[0m\u001b[0m\n\u001b[0m\u001b[0;32m   3795\u001b[0m         \u001b[0mself\u001b[0m\u001b[1;33m.\u001b[0m\u001b[0m_clear_item_cache\u001b[0m\u001b[1;33m(\u001b[0m\u001b[1;33m)\u001b[0m\u001b[1;33m\u001b[0m\u001b[1;33m\u001b[0m\u001b[0m\n\u001b[0;32m   3796\u001b[0m \u001b[1;33m\u001b[0m\u001b[0m\n",
      "\u001b[1;32m~\\anaconda3\\lib\\site-packages\\pandas\\core\\internals\\managers.py\u001b[0m in \u001b[0;36miset\u001b[1;34m(self, loc, value, inplace)\u001b[0m\n\u001b[0;32m   1131\u001b[0m         \u001b[1;31m# Accessing public blknos ensures the public versions are initialized\u001b[0m\u001b[1;33m\u001b[0m\u001b[1;33m\u001b[0m\u001b[0m\n\u001b[0;32m   1132\u001b[0m         \u001b[0mblknos\u001b[0m \u001b[1;33m=\u001b[0m \u001b[0mself\u001b[0m\u001b[1;33m.\u001b[0m\u001b[0mblknos\u001b[0m\u001b[1;33m[\u001b[0m\u001b[0mloc\u001b[0m\u001b[1;33m]\u001b[0m\u001b[1;33m\u001b[0m\u001b[1;33m\u001b[0m\u001b[0m\n\u001b[1;32m-> 1133\u001b[1;33m         \u001b[0mblklocs\u001b[0m \u001b[1;33m=\u001b[0m \u001b[0mself\u001b[0m\u001b[1;33m.\u001b[0m\u001b[0mblklocs\u001b[0m\u001b[1;33m[\u001b[0m\u001b[0mloc\u001b[0m\u001b[1;33m]\u001b[0m\u001b[1;33m.\u001b[0m\u001b[0mcopy\u001b[0m\u001b[1;33m(\u001b[0m\u001b[1;33m)\u001b[0m\u001b[1;33m\u001b[0m\u001b[1;33m\u001b[0m\u001b[0m\n\u001b[0m\u001b[0;32m   1134\u001b[0m \u001b[1;33m\u001b[0m\u001b[0m\n\u001b[0;32m   1135\u001b[0m         \u001b[0munfit_mgr_locs\u001b[0m \u001b[1;33m=\u001b[0m \u001b[1;33m[\u001b[0m\u001b[1;33m]\u001b[0m\u001b[1;33m\u001b[0m\u001b[1;33m\u001b[0m\u001b[0m\n",
      "\u001b[1;31mKeyboardInterrupt\u001b[0m: "
     ]
    }
   ],
   "source": [
    "%%time\n",
    "cfpb_df = cfpb_df.groupby(['Product', 'Issue', 'State', 'ZIP code']).apply(func=normalize_narr)"
   ]
  },
  {
   "cell_type": "code",
   "execution_count": null,
   "id": "681221b7",
   "metadata": {},
   "outputs": [],
   "source": [
    "cfpb_df.to_csv('clean_narr_tmp.csv', index=False)"
   ]
  },
  {
   "cell_type": "code",
   "execution_count": null,
   "id": "b18ab688",
   "metadata": {},
   "outputs": [],
   "source": [
    "cfpb_df = pd.read_csv('clean_narr_tmp.csv')"
   ]
  },
  {
   "cell_type": "code",
   "execution_count": null,
   "id": "949e2cb2",
   "metadata": {},
   "outputs": [],
   "source": [
    "# split dataset train, dev, test\n",
    "train_df, dev_df, test_df = np.split(cfpb_df.sample(len(cfpb_df), random_state = 42), \n",
    "                                     [int(len(cfpb_df)*0.75), int(len(cfpb_df)*0.9)])\n",
    "train_df.to_csv('cfpb_train.csv', index=False)\n",
    "test_df.to_csv('cfpb_test.csv', index=False)\n",
    "dev_df.to_csv('cfpb_dev.csv', index=False)"
   ]
  },
  {
   "cell_type": "code",
   "execution_count": 4,
   "id": "56077bdb",
   "metadata": {},
   "outputs": [
    {
     "name": "stderr",
     "output_type": "stream",
     "text": [
      "C:\\Users\\JYM\\AppData\\Local\\Temp/ipykernel_36860/3254603939.py:1: DtypeWarning: Columns (10) have mixed types. Specify dtype option on import or set low_memory=False.\n",
      "  train_df = pd.read_csv('cfpb_train.csv')\n"
     ]
    }
   ],
   "source": [
    "train_df = pd.read_csv('cfpb_train.csv')"
   ]
  },
  {
   "cell_type": "code",
   "execution_count": 5,
   "id": "71fcd7f9",
   "metadata": {},
   "outputs": [],
   "source": [
    "cfpb_df = train_df\n",
    "cfpb_df['Consumer complaint narrative'].fillna('', inplace=True)\n",
    "cfpb_df['Consumer complaint narrative'] = cfpb_df['Consumer complaint narrative'].astype(str)"
   ]
  },
  {
   "cell_type": "markdown",
   "id": "88c9bc24",
   "metadata": {},
   "source": [
    "### Round 1! Get all the 2-4-grams from the customer complaints."
   ]
  },
  {
   "cell_type": "code",
   "execution_count": 6,
   "id": "67d8af92",
   "metadata": {},
   "outputs": [
    {
     "data": {
      "text/html": [
       "<style>#sk-container-id-1 {color: black;background-color: white;}#sk-container-id-1 pre{padding: 0;}#sk-container-id-1 div.sk-toggleable {background-color: white;}#sk-container-id-1 label.sk-toggleable__label {cursor: pointer;display: block;width: 100%;margin-bottom: 0;padding: 0.3em;box-sizing: border-box;text-align: center;}#sk-container-id-1 label.sk-toggleable__label-arrow:before {content: \"▸\";float: left;margin-right: 0.25em;color: #696969;}#sk-container-id-1 label.sk-toggleable__label-arrow:hover:before {color: black;}#sk-container-id-1 div.sk-estimator:hover label.sk-toggleable__label-arrow:before {color: black;}#sk-container-id-1 div.sk-toggleable__content {max-height: 0;max-width: 0;overflow: hidden;text-align: left;background-color: #f0f8ff;}#sk-container-id-1 div.sk-toggleable__content pre {margin: 0.2em;color: black;border-radius: 0.25em;background-color: #f0f8ff;}#sk-container-id-1 input.sk-toggleable__control:checked~div.sk-toggleable__content {max-height: 200px;max-width: 100%;overflow: auto;}#sk-container-id-1 input.sk-toggleable__control:checked~label.sk-toggleable__label-arrow:before {content: \"▾\";}#sk-container-id-1 div.sk-estimator input.sk-toggleable__control:checked~label.sk-toggleable__label {background-color: #d4ebff;}#sk-container-id-1 div.sk-label input.sk-toggleable__control:checked~label.sk-toggleable__label {background-color: #d4ebff;}#sk-container-id-1 input.sk-hidden--visually {border: 0;clip: rect(1px 1px 1px 1px);clip: rect(1px, 1px, 1px, 1px);height: 1px;margin: -1px;overflow: hidden;padding: 0;position: absolute;width: 1px;}#sk-container-id-1 div.sk-estimator {font-family: monospace;background-color: #f0f8ff;border: 1px dotted black;border-radius: 0.25em;box-sizing: border-box;margin-bottom: 0.5em;}#sk-container-id-1 div.sk-estimator:hover {background-color: #d4ebff;}#sk-container-id-1 div.sk-parallel-item::after {content: \"\";width: 100%;border-bottom: 1px solid gray;flex-grow: 1;}#sk-container-id-1 div.sk-label:hover label.sk-toggleable__label {background-color: #d4ebff;}#sk-container-id-1 div.sk-serial::before {content: \"\";position: absolute;border-left: 1px solid gray;box-sizing: border-box;top: 0;bottom: 0;left: 50%;z-index: 0;}#sk-container-id-1 div.sk-serial {display: flex;flex-direction: column;align-items: center;background-color: white;padding-right: 0.2em;padding-left: 0.2em;position: relative;}#sk-container-id-1 div.sk-item {position: relative;z-index: 1;}#sk-container-id-1 div.sk-parallel {display: flex;align-items: stretch;justify-content: center;background-color: white;position: relative;}#sk-container-id-1 div.sk-item::before, #sk-container-id-1 div.sk-parallel-item::before {content: \"\";position: absolute;border-left: 1px solid gray;box-sizing: border-box;top: 0;bottom: 0;left: 50%;z-index: -1;}#sk-container-id-1 div.sk-parallel-item {display: flex;flex-direction: column;z-index: 1;position: relative;background-color: white;}#sk-container-id-1 div.sk-parallel-item:first-child::after {align-self: flex-end;width: 50%;}#sk-container-id-1 div.sk-parallel-item:last-child::after {align-self: flex-start;width: 50%;}#sk-container-id-1 div.sk-parallel-item:only-child::after {width: 0;}#sk-container-id-1 div.sk-dashed-wrapped {border: 1px dashed gray;margin: 0 0.4em 0.5em 0.4em;box-sizing: border-box;padding-bottom: 0.4em;background-color: white;}#sk-container-id-1 div.sk-label label {font-family: monospace;font-weight: bold;display: inline-block;line-height: 1.2em;}#sk-container-id-1 div.sk-label-container {text-align: center;}#sk-container-id-1 div.sk-container {/* jupyter's `normalize.less` sets `[hidden] { display: none; }` but bootstrap.min.css set `[hidden] { display: none !important; }` so we also need the `!important` here to be able to override the default hidden behavior on the sphinx rendered scikit-learn.org. See: https://github.com/scikit-learn/scikit-learn/issues/21755 */display: inline-block !important;position: relative;}#sk-container-id-1 div.sk-text-repr-fallback {display: none;}</style><div id=\"sk-container-id-1\" class=\"sk-top-container\"><div class=\"sk-text-repr-fallback\"><pre>TfidfVectorizer(lowercase=False, ngram_range=(2, 4))</pre><b>In a Jupyter environment, please rerun this cell to show the HTML representation or trust the notebook. <br />On GitHub, the HTML representation is unable to render, please try loading this page with nbviewer.org.</b></div><div class=\"sk-container\" hidden><div class=\"sk-item\"><div class=\"sk-estimator sk-toggleable\"><input class=\"sk-toggleable__control sk-hidden--visually\" id=\"sk-estimator-id-1\" type=\"checkbox\" checked><label for=\"sk-estimator-id-1\" class=\"sk-toggleable__label sk-toggleable__label-arrow\">TfidfVectorizer</label><div class=\"sk-toggleable__content\"><pre>TfidfVectorizer(lowercase=False, ngram_range=(2, 4))</pre></div></div></div></div></div>"
      ],
      "text/plain": [
       "TfidfVectorizer(lowercase=False, ngram_range=(2, 4))"
      ]
     },
     "execution_count": 6,
     "metadata": {},
     "output_type": "execute_result"
    }
   ],
   "source": [
    "from sklearn.feature_extraction.text import CountVectorizer, TfidfVectorizer\n",
    "vectorizer = TfidfVectorizer(lowercase = False,ngram_range = (2,4))\n",
    "vectorizer.fit(cfpb_df['Consumer complaint narrative'])\n",
    "# This takes about 36GB RAM"
   ]
  },
  {
   "cell_type": "code",
   "execution_count": 7,
   "id": "0b830124",
   "metadata": {},
   "outputs": [],
   "source": [
    "# Extract the vocabulary and idf score\n",
    "ngrams = vectorizer.get_feature_names_out()\n",
    "# This takes about 31GB RAM"
   ]
  },
  {
   "cell_type": "code",
   "execution_count": 8,
   "id": "3cbd8a7b",
   "metadata": {},
   "outputs": [
    {
     "name": "stdout",
     "output_type": "stream",
     "text": [
      "82767874\n"
     ]
    }
   ],
   "source": [
    "print(len(ngrams))"
   ]
  },
  {
   "cell_type": "code",
   "execution_count": 9,
   "id": "e6656e83",
   "metadata": {},
   "outputs": [
    {
     "name": "stdout",
     "output_type": "stream",
     "text": [
      "Wall time: 1min 3s\n"
     ]
    }
   ],
   "source": [
    "%%time\n",
    "stop_words = set(stopwords.words('english'))\n",
    "number_pattern = re.compile(r'^\\d+|\\d+$')  # match numbers at the start or end of a string\n",
    "# regular expression to match repeating characters\n",
    "repeating_chars_pattern = re.compile(r'^(.)\\1*$')\n",
    "\n",
    "filtered_vocab = {}\n",
    "\n",
    "def clean_features(ngram):\n",
    "    words = ngram.split()  # splits the n-gram into individual words\n",
    "    # check if the n-gram starts/ends with a stop word or a number\n",
    "    if (words[0] in stop_words or words[-1] in stop_words) or (number_pattern.match(words[0]) or number_pattern.match(words[-1]) or (repeating_chars_pattern.match(words[0]) or repeating_chars_pattern.match(words[-1]))):\n",
    "        return False\n",
    "    return True\n",
    "\n",
    "ngrams_to_keep = [ngram for ngram in ngrams if clean_features(ngram)]"
   ]
  },
  {
   "cell_type": "code",
   "execution_count": 10,
   "id": "c7efe5cf",
   "metadata": {},
   "outputs": [
    {
     "name": "stdout",
     "output_type": "stream",
     "text": [
      "32828019\n"
     ]
    }
   ],
   "source": [
    "print(len(ngrams_to_keep))"
   ]
  },
  {
   "cell_type": "markdown",
   "id": "81c917bb",
   "metadata": {},
   "source": [
    "### Round 2! Find proper document frequency thresholds\n",
    "no new vocab is generated in this step"
   ]
  },
  {
   "cell_type": "code",
   "execution_count": 11,
   "id": "5a47300d",
   "metadata": {},
   "outputs": [
    {
     "name": "stdout",
     "output_type": "stream",
     "text": [
      "Wall time: 5min 2s\n"
     ]
    }
   ],
   "source": [
    "%%time\n",
    "from sklearn.feature_extraction.text import CountVectorizer, TfidfVectorizer\n",
    "from collections import Counter\n",
    "import matplotlib.pyplot as plt\n",
    "\n",
    "# Creating a new vectorizer with your filtered vocabulary\n",
    "filtered_vectorizer = TfidfVectorizer(lowercase=False, vocabulary=ngrams_to_keep, ngram_range=(2,4))\n",
    "\n",
    "# Fitting the vectorizer and transforming the narratives\n",
    "X = filtered_vectorizer.fit_transform(cfpb_df['Consumer complaint narrative'])"
   ]
  },
  {
   "cell_type": "code",
   "execution_count": 12,
   "id": "6b445c22",
   "metadata": {},
   "outputs": [],
   "source": [
    "# Get the term frequencies\n",
    "tf = np.sum(X, axis=0).A1\n",
    "\n",
    "# Get the document frequencies\n",
    "df = np.sum((X > 0), axis=0).A1"
   ]
  },
  {
   "cell_type": "code",
   "execution_count": 13,
   "id": "dcdf2d7d",
   "metadata": {},
   "outputs": [
    {
     "data": {
      "image/png": "[encoded data removed]",
      "text/plain": [
       "<Figure size 1000x1000 with 2 Axes>"
      ]
     },
     "metadata": {},
     "output_type": "display_data"
    }
   ],
   "source": [
    "# Creating histograms for Term Frequencies and Document Frequencies\n",
    "fig, axs = plt.subplots(2, figsize=(10, 10))\n",
    "\n",
    "axs[0].hist(tf, bins=10000)\n",
    "axs[0].set_title('Term Frequencies')\n",
    "axs[0].set_yscale('log')  # Using log scale for better visualization\n",
    "axs[0].set_xlim([0, 50000])  # Set x-axis limit to 0-5000\n",
    "\n",
    "\n",
    "axs[1].hist(df, bins=10000)\n",
    "axs[1].set_title('Document Frequencies')\n",
    "axs[1].set_yscale('log')  # Using log scale for better visualization\n",
    "axs[1].set_xlim([0, 50000])  # Set x-axis limit to 0-5000\n",
    "\n",
    "\n",
    "plt.tight_layout()\n",
    "plt.show()"
   ]
  },
  {
   "cell_type": "code",
   "execution_count": 14,
   "id": "5c5e708f",
   "metadata": {},
   "outputs": [
    {
     "data": {
      "image/png": "[encoded data removed]",
      "text/plain": [
       "<Figure size 1000x1000 with 2 Axes>"
      ]
     },
     "metadata": {},
     "output_type": "display_data"
    }
   ],
   "source": [
    "# Creating histograms for Term Frequencies and Document Frequencies\n",
    "fig, axs = plt.subplots(2, figsize=(10, 10))\n",
    "\n",
    "axs[0].hist(tf, bins=100)\n",
    "axs[0].set_title('Term Frequencies')\n",
    "axs[0].set_yscale('log')  # Using log scale for better visualization\n",
    "axs[0].set_xlim([0, 5000])  # Set x-axis limit to 0-5000\n",
    "\n",
    "\n",
    "axs[1].hist(df, bins=100)\n",
    "axs[1].set_title('Document Frequencies')\n",
    "axs[1].set_yscale('log')  # Using log scale for better visualization\n",
    "axs[1].set_xlim([0, 10000])  # Set x-axis limit to 0-5000\n",
    "\n",
    "\n",
    "plt.tight_layout()\n",
    "plt.show()"
   ]
  },
  {
   "cell_type": "markdown",
   "id": "307cc08a",
   "metadata": {},
   "source": [
    "We can see the historgram faltterned out after 800000, this suggest that even the most frequent tokens appeared 0.07 of the total complaints number, suggesting a max_df of 0.08. In this situation, even we set the max_df to 0.8, there won't be much feature can be captured. On the other hand, the histrogram shows a sharp drop after 2000, suggesting a good threshold to drop the rearer n-grams to be 1500 documents."
   ]
  },
  {
   "cell_type": "markdown",
   "id": "6efcbd9e",
   "metadata": {},
   "source": [
    "### Round 3! Further Reduce n-gram Features By through variance"
   ]
  },
  {
   "cell_type": "code",
   "execution_count": 15,
   "id": "bae14bcf",
   "metadata": {},
   "outputs": [
    {
     "name": "stdout",
     "output_type": "stream",
     "text": [
      "Wall time: 5min 9s\n"
     ]
    }
   ],
   "source": [
    "%%time\n",
    "from sklearn.feature_extraction.text import CountVectorizer, TfidfVectorizer\n",
    "from collections import Counter\n",
    "import matplotlib.pyplot as plt\n",
    "\n",
    "# Creating a new vectorizer with your filtered vocabulary, the max_df is actually 0.08 by calculation\n",
    "filtered_vectorizer = TfidfVectorizer(lowercase=False, vocabulary=ngrams_to_keep, ngram_range=(2,4), max_df=0.8, min_df=1500)\n",
    "\n",
    "# Fitting the vectorizer and transforming the narratives\n",
    "X = filtered_vectorizer.fit_transform(cfpb_df['Consumer complaint narrative'])"
   ]
  },
  {
   "cell_type": "code",
   "execution_count": 16,
   "id": "07f9eec9",
   "metadata": {},
   "outputs": [
    {
     "name": "stdout",
     "output_type": "stream",
     "text": [
      "32828019\n"
     ]
    }
   ],
   "source": [
    "print(len(filtered_vectorizer.get_feature_names_out()))"
   ]
  },
  {
   "cell_type": "code",
   "execution_count": 17,
   "id": "9ea82c54",
   "metadata": {},
   "outputs": [
    {
     "data": {
      "image/png": "[encoded data removed]",
      "text/plain": [
       "<Figure size 1000x500 with 1 Axes>"
      ]
     },
     "metadata": {},
     "output_type": "display_data"
    },
    {
     "name": "stdout",
     "output_type": "stream",
     "text": [
      "Wall time: 10.1 s\n"
     ]
    }
   ],
   "source": [
    "%%time\n",
    "# Compute mean\n",
    "means = np.array(X.mean(axis=0)).ravel()\n",
    "\n",
    "# Compute variance\n",
    "variances = np.array((X.multiply(X) - 2 * X.multiply(means)).mean(axis=0) + means**2).ravel()\n",
    "\n",
    "# Plotting histogram of variances\n",
    "plt.figure(figsize=(10,5))\n",
    "plt.hist(variances, bins=50, log=True)\n",
    "plt.xlabel('Variance')\n",
    "plt.ylabel('Frequency')\n",
    "plt.title('Histogram of feature variances')\n",
    "plt.show()"
   ]
  },
  {
   "cell_type": "code",
   "execution_count": 18,
   "id": "ab610aae",
   "metadata": {},
   "outputs": [
    {
     "name": "stdout",
     "output_type": "stream",
     "text": [
      "32828019\n",
      "1141075\n"
     ]
    }
   ],
   "source": [
    "# Define your threshold\n",
    "threshold = 0.0000001# 0.00001 * (1 - 0.00001)\n",
    "\n",
    "# Get all feature names\n",
    "feature_names = filtered_vectorizer.get_feature_names_out()\n",
    "print(len(feature_names))\n",
    "# Filter the feature names based on your variance threshold\n",
    "filtered_feature_names_1M = [feature for feature, var in zip(feature_names, variances) if var >= threshold]\n",
    "print(len(filtered_feature_names_1M))"
   ]
  },
  {
   "cell_type": "code",
   "execution_count": 19,
   "id": "f0cf1f15",
   "metadata": {},
   "outputs": [
    {
     "name": "stdout",
     "output_type": "stream",
     "text": [
      "522919\n"
     ]
    }
   ],
   "source": [
    "# Define your threshold\n",
    "threshold = 0.00000019# 0.00001 * (1 - 0.00001)\n",
    "\n",
    "# Filter the feature names based on your variance threshold\n",
    "filtered_feature_names_500k = [feature for feature, var in zip(feature_names, variances) if var >= threshold]\n",
    "print(len(filtered_feature_names_500k))"
   ]
  },
  {
   "cell_type": "code",
   "execution_count": 26,
   "id": "1cccdbe3",
   "metadata": {},
   "outputs": [
    {
     "name": "stdout",
     "output_type": "stream",
     "text": [
      "30288\n"
     ]
    }
   ],
   "source": [
    "# Define your threshold\n",
    "threshold = 0.0000022# 0.00001 * (1 - 0.00001)\n",
    "\n",
    "# Filter the feature names based on your variance threshold\n",
    "filtered_feature_names_33k = [feature for feature, var in zip(feature_names, variances) if var >= threshold]\n",
    "print(len(filtered_feature_names_33k))"
   ]
  },
  {
   "cell_type": "code",
   "execution_count": 21,
   "id": "c71b2660",
   "metadata": {},
   "outputs": [
    {
     "name": "stdout",
     "output_type": "stream",
     "text": [
      "11401\n"
     ]
    }
   ],
   "source": [
    "# Define your threshold\n",
    "threshold = 0.000005# 0.00001 * (1 - 0.00001)\n",
    "\n",
    "# Filter the feature names based on your variance threshold\n",
    "filtered_feature_names_11k = [feature for feature, var in zip(feature_names, variances) if var >= threshold]\n",
    "print(len(filtered_feature_names_11k))"
   ]
  },
  {
   "cell_type": "code",
   "execution_count": 22,
   "id": "156b72de",
   "metadata": {},
   "outputs": [
    {
     "name": "stdout",
     "output_type": "stream",
     "text": [
      "4808\n"
     ]
    }
   ],
   "source": [
    "# Define your threshold\n",
    "threshold = 0.00001# 0.00001 * (1 - 0.00001)\n",
    "\n",
    "# Filter the feature names based on your variance threshold\n",
    "filtered_feature_names_5k = [feature for feature, var in zip(feature_names, variances) if var >= threshold]\n",
    "print(len(filtered_feature_names_5k))"
   ]
  },
  {
   "cell_type": "code",
   "execution_count": 23,
   "id": "79ab6a2d",
   "metadata": {},
   "outputs": [],
   "source": [
    "# %%time\n",
    "# from sklearn.feature_selection import VarianceThreshold\n",
    "\n",
    "# # Adjust VarianceThreshold\n",
    "# variance_threshold = VarianceThreshold(threshold=(0.00001 * (1 - 0.00001)))\n",
    "\n",
    "# # Apply VarianceThreshold\n",
    "# X_var = variance_threshold.fit_transform(X)\n",
    "\n",
    "# # Get the variances of all features\n",
    "# variances = variance_threshold.variances_\n",
    "\n",
    "# # Get the names of the remaining features after variance threshold\n",
    "# feature_names_var = np.array(filtered_vectorizer.get_feature_names_out())[variance_threshold.get_support()]\n",
    "\n",
    "# print(len(feature_names_var))"
   ]
  },
  {
   "cell_type": "markdown",
   "id": "786f1fba",
   "metadata": {},
   "source": [
    "### Round 5! Get the TF-IDF vectorizers ready, we will create 5 according for different thresholds and computational power"
   ]
  },
  {
   "cell_type": "code",
   "execution_count": 24,
   "id": "1659e184",
   "metadata": {},
   "outputs": [],
   "source": [
    "import pickle"
   ]
  },
  {
   "cell_type": "code",
   "execution_count": null,
   "id": "06039fb4",
   "metadata": {},
   "outputs": [],
   "source": [
    "# Creating a new vectorizer with your filtered vocabulary, the max_df is actually 0.08 by calculation\n",
    "filtered_vectorizer = TfidfVectorizer(lowercase=False, vocabulary=filtered_feature_names_5k, ngram_range=(2,4), max_df=0.8, min_df=1500)\n",
    "# Fitting the vectorizer and transforming the narratives\n",
    "X = filtered_vectorizer.fit_transform(cfpb_df['Consumer complaint narrative'])\n",
    "# Save the trained vectorizer\n",
    "with open('tfidf_vectorizer_train_split_5k.pkl', 'wb') as f:\n",
    "    pickle.dump(filtered_vectorizer, f)"
   ]
  },
  {
   "cell_type": "code",
   "execution_count": null,
   "id": "f5e4c9b4",
   "metadata": {},
   "outputs": [],
   "source": [
    "# Creating a new vectorizer with your filtered vocabulary, the max_df is actually 0.08 by calculation\n",
    "filtered_vectorizer = TfidfVectorizer(lowercase=False, vocabulary=filtered_feature_names_11k, ngram_range=(2,4), max_df=0.8, min_df=1500)\n",
    "# Fitting the vectorizer and transforming the narratives\n",
    "X = filtered_vectorizer.fit_transform(cfpb_df['Consumer complaint narrative'])\n",
    "# Save the trained vectorizer\n",
    "with open('tfidf_vectorizer_train_split_11k.pkl', 'wb') as f:\n",
    "    pickle.dump(filtered_vectorizer, f)"
   ]
  },
  {
   "cell_type": "code",
   "execution_count": 27,
   "id": "c95465da",
   "metadata": {},
   "outputs": [],
   "source": [
    "# Creating a new vectorizer with your filtered vocabulary, the max_df is actually 0.08 by calculation\n",
    "filtered_vectorizer = TfidfVectorizer(lowercase=False, vocabulary=filtered_feature_names_33k, ngram_range=(2,4), max_df=0.8, min_df=1500)\n",
    "# Fitting the vectorizer and transforming the narratives\n",
    "X = filtered_vectorizer.fit_transform(cfpb_df['Consumer complaint narrative'])\n",
    "# Save the trained vectorizer\n",
    "with open('tfidf_vectorizer_train_split_33k.pkl', 'wb') as f:\n",
    "    pickle.dump(filtered_vectorizer, f)"
   ]
  },
  {
   "cell_type": "code",
   "execution_count": null,
   "id": "4d1b59bb",
   "metadata": {},
   "outputs": [],
   "source": [
    "# Creating a new vectorizer with your filtered vocabulary, the max_df is actually 0.08 by calculation\n",
    "filtered_vectorizer = TfidfVectorizer(lowercase=False, vocabulary=filtered_feature_names_500k, ngram_range=(2,4), max_df=0.8, min_df=1500)\n",
    "# Fitting the vectorizer and transforming the narratives\n",
    "X = filtered_vectorizer.fit_transform(cfpb_df['Consumer complaint narrative'])\n",
    "# Save the trained vectorizer\n",
    "with open('tfidf_vectorizer_train_split_500k.pkl', 'wb') as f:\n",
    "    pickle.dump(filtered_vectorizer, f)"
   ]
  },
  {
   "cell_type": "code",
   "execution_count": null,
   "id": "08169c0a",
   "metadata": {},
   "outputs": [],
   "source": [
    "# Creating a new vectorizer with your filtered vocabulary, the max_df is actually 0.08 by calculation\n",
    "filtered_vectorizer = TfidfVectorizer(lowercase=False, vocabulary=filtered_feature_names_1M, ngram_range=(2,4), max_df=0.8, min_df=1500)\n",
    "# Fitting the vectorizer and transforming the narratives\n",
    "X = filtered_vectorizer.fit_transform(cfpb_df['Consumer complaint narrative'])\n",
    "# Save the trained vectorizer\n",
    "with open('tfidf_vectorizer_train_split_1M.pkl', 'wb') as f:\n",
    "    pickle.dump(filtered_vectorizer, f)"
   ]
  },
  {
   "cell_type": "code",
   "execution_count": null,
   "id": "d0643623",
   "metadata": {},
   "outputs": [],
   "source": [
    "# Load the trained vectorizer\n",
    "with open('tfidf_vectorizer.pkl', 'rb') as f:\n",
    "    loaded_vectorizer = pickle.load(f)"
   ]
  },
  {
   "cell_type": "code",
   "execution_count": null,
   "id": "066cefd5",
   "metadata": {},
   "outputs": [],
   "source": []
  }
 ],
 "metadata": {
  "kernelspec": {
   "display_name": "Python 3 (ipykernel)",
   "language": "python",
   "name": "python3"
  },
  "language_info": {
   "codemirror_mode": {
    "name": "ipython",
    "version": 3
   },
   "file_extension": ".py",
   "mimetype": "text/x-python",
   "name": "python",
   "nbconvert_exporter": "python",
   "pygments_lexer": "ipython3",
   "version": "3.9.13"
  }
 },
 "nbformat": 4,
 "nbformat_minor": 5
}
