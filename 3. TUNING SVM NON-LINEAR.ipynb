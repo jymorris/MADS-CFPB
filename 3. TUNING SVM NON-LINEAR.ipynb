{
 "cells": [
  {
   "cell_type": "code",
   "execution_count": 1,
   "id": "9c82799d",
   "metadata": {},
   "outputs": [],
   "source": [
    "import pandas as pd\n",
    "import numpy as np\n",
    "import pickle\n",
    "from tqdm import tqdm\n",
    "\n",
    "import seaborn as sns\n",
    "import matplotlib.pyplot as plt\n",
    "\n",
    "from sklearn.feature_extraction.text import TfidfVectorizer\n",
    "from sklearn.feature_selection import SelectKBest, chi2\n",
    "from sklearn.model_selection import train_test_split\n",
    "from sklearn.linear_model import LogisticRegression\n",
    "from sklearn.metrics import accuracy_score, classification_report\n",
    "from imblearn.over_sampling import SMOTE, RandomOverSampler\n",
    "from sklearn import naive_bayes #import GaussianNB, MultinomialNB\n",
    "from sklearn.linear_model import SGDClassifier # simulate the behavior of logistic regression using SGDClassifier(loss='log')\n",
    "from sklearn.metrics import accuracy_score,balanced_accuracy_score,average_precision_score, classification_report\n",
    "from sklearn.metrics import f1_score\n",
    "from sklearn.utils import shuffle\n",
    "from collections import Counter\n",
    "from itertools import product"
   ]
  },
  {
   "cell_type": "code",
   "execution_count": 2,
   "id": "596f8420",
   "metadata": {},
   "outputs": [
    {
     "data": {
      "text/html": [
       "<style>.container { width:100% !important; }</style>"
      ],
      "text/plain": [
       "<IPython.core.display.HTML object>"
      ]
     },
     "metadata": {},
     "output_type": "display_data"
    }
   ],
   "source": [
    "from IPython.display import display, HTML\n",
    "display(HTML(\"<style>.container { width:100% !important; }</style>\"))"
   ]
  },
  {
   "cell_type": "code",
   "execution_count": 3,
   "id": "46b2e9f1",
   "metadata": {},
   "outputs": [
    {
     "name": "stderr",
     "output_type": "stream",
     "text": [
      "C:\\Users\\JYM\\AppData\\Local\\Temp/ipykernel_22612/2270551363.py:6: DtypeWarning: Columns (10) have mixed types. Specify dtype option on import or set low_memory=False.\n",
      "  train_df = pd.read_csv('cfpb_train.csv')\n",
      "C:\\Users\\JYM\\AppData\\Local\\Temp/ipykernel_22612/2270551363.py:8: DtypeWarning: Columns (10) have mixed types. Specify dtype option on import or set low_memory=False.\n",
      "  dev_df = pd.read_csv('cfpb_dev.csv')\n"
     ]
    }
   ],
   "source": [
    "# Load the trained vectorizer\n",
    "with open('tfidf_vectorizer_train_split_33k.pkl', 'rb') as f:\n",
    "    loaded_vectorizer = pickle.load(f)\n",
    "len(loaded_vectorizer.get_feature_names_out())\n",
    "\n",
    "train_df = pd.read_csv('cfpb_train.csv')\n",
    "test_df = pd.read_csv('cfpb_test.csv')\n",
    "dev_df = pd.read_csv('cfpb_dev.csv')"
   ]
  },
  {
   "cell_type": "code",
   "execution_count": 4,
   "id": "d5f676c8",
   "metadata": {},
   "outputs": [],
   "source": [
    "# some cleaning just ot make sure\n",
    "train_df['Consumer complaint narrative'] = train_df['Consumer complaint narrative'].fillna('').astype(str)\n",
    "test_df['Consumer complaint narrative'] = test_df['Consumer complaint narrative'].fillna('').astype(str)\n",
    "dev_df['Consumer complaint narrative'] = dev_df['Consumer complaint narrative'].fillna('').astype(str)\n",
    "\n",
    "train_df['debt_collection'] = (train_df['Product'] == 'Debt collection').astype(int)\n",
    "test_df['debt_collection'] = (test_df['Product'] == 'Debt collection').astype(int)\n",
    "dev_df['debt_collection'] = (dev_df['Product'] == 'Debt collection').astype(int)"
   ]
  },
  {
   "cell_type": "code",
   "execution_count": 5,
   "id": "c0a3ff6b",
   "metadata": {},
   "outputs": [
    {
     "name": "stdout",
     "output_type": "stream",
     "text": [
      "Wall time: 56.7 s\n"
     ]
    }
   ],
   "source": [
    "%%time\n",
    "X_test = loaded_vectorizer.transform(test_df['Consumer complaint narrative'])\n",
    "y_test = test_df['debt_collection']\n",
    "\n",
    "X_dev = loaded_vectorizer.transform(dev_df['Consumer complaint narrative'])\n",
    "y_dev = dev_df['debt_collection']"
   ]
  },
  {
   "cell_type": "markdown",
   "id": "c3c2c168",
   "metadata": {},
   "source": [
    "### Grid Search Model"
   ]
  },
  {
   "cell_type": "code",
   "execution_count": 7,
   "id": "f0666469",
   "metadata": {
    "scrolled": false
   },
   "outputs": [
    {
     "name": "stdout",
     "output_type": "stream",
     "text": [
      "New best score:0.7470619614943179 using {'sample_size': 100000, 'chi2_features': 20000, 'clf__alpha': 0.0001, 'clf__loss': 'hinge', 'clf__penalty': 'elasticnet', 'clf__n_iter_no_change': 3, 'clf__early_stopping': False, 'clf__learning_rate': 'constant', 'clf__eta0': 0.01}\n",
      "New best score:0.7472328306039226 using {'sample_size': 100000, 'chi2_features': 20000, 'clf__alpha': 0.0001, 'clf__loss': 'hinge', 'clf__penalty': 'elasticnet', 'clf__n_iter_no_change': 3, 'clf__early_stopping': False, 'clf__learning_rate': 'adaptive', 'clf__eta0': 0.01}\n",
      "New best score:0.7528047984585263 using {'sample_size': 100000, 'chi2_features': 20000, 'clf__alpha': 0.0001, 'clf__loss': 'squared_hinge', 'clf__penalty': 'elasticnet', 'clf__n_iter_no_change': 3, 'clf__early_stopping': False, 'clf__learning_rate': 'constant', 'clf__eta0': 0.01}\n",
      "New best score:0.7537653896631461 using {'sample_size': 100000, 'chi2_features': 20000, 'clf__alpha': 0.0001, 'clf__loss': 'squared_hinge', 'clf__penalty': 'elasticnet', 'clf__n_iter_no_change': 3, 'clf__early_stopping': False, 'clf__learning_rate': 'adaptive', 'clf__eta0': 0.01}\n",
      "New best score:0.7545093625933914 using {'sample_size': 100000, 'chi2_features': 25000, 'clf__alpha': 0.0001, 'clf__loss': 'squared_hinge', 'clf__penalty': 'elasticnet', 'clf__n_iter_no_change': 3, 'clf__early_stopping': False, 'clf__learning_rate': 'constant', 'clf__eta0': 0.01}\n",
      "New best score:0.754944487073083 using {'sample_size': 100000, 'chi2_features': 25000, 'clf__alpha': 0.0001, 'clf__loss': 'squared_hinge', 'clf__penalty': 'elasticnet', 'clf__n_iter_no_change': 3, 'clf__early_stopping': False, 'clf__learning_rate': 'adaptive', 'clf__eta0': 0.01}\n",
      "New best score:0.7610322139090667 using {'sample_size': 200000, 'chi2_features': 20000, 'clf__alpha': 0.0001, 'clf__loss': 'squared_hinge', 'clf__penalty': 'elasticnet', 'clf__n_iter_no_change': 3, 'clf__early_stopping': False, 'clf__learning_rate': 'constant', 'clf__eta0': 0.01}\n",
      "New best score:0.7613263958996661 using {'sample_size': 200000, 'chi2_features': 20000, 'clf__alpha': 0.0001, 'clf__loss': 'squared_hinge', 'clf__penalty': 'elasticnet', 'clf__n_iter_no_change': 3, 'clf__early_stopping': False, 'clf__learning_rate': 'adaptive', 'clf__eta0': 0.01}\n",
      "New best score:0.7615425218120284 using {'sample_size': 200000, 'chi2_features': 25000, 'clf__alpha': 0.0001, 'clf__loss': 'squared_hinge', 'clf__penalty': 'elasticnet', 'clf__n_iter_no_change': 3, 'clf__early_stopping': False, 'clf__learning_rate': 'adaptive', 'clf__eta0': 0.01}\n",
      "New best score:0.7618870093356324 using {'sample_size': 200000, 'chi2_features': 30000, 'clf__alpha': 0.0001, 'clf__loss': 'squared_hinge', 'clf__penalty': 'elasticnet', 'clf__n_iter_no_change': 3, 'clf__early_stopping': False, 'clf__learning_rate': 'adaptive', 'clf__eta0': 0.01}\n",
      "New best score:0.7630364881867747 using {'sample_size': 300000, 'chi2_features': 20000, 'clf__alpha': 0.0001, 'clf__loss': 'squared_hinge', 'clf__penalty': 'elasticnet', 'clf__n_iter_no_change': 3, 'clf__early_stopping': False, 'clf__learning_rate': 'adaptive', 'clf__eta0': 0.01}\n",
      "New best score:0.765276310064027 using {'sample_size': 400000, 'chi2_features': 30000, 'clf__alpha': 0.0001, 'clf__loss': 'squared_hinge', 'clf__penalty': 'elasticnet', 'clf__n_iter_no_change': 3, 'clf__early_stopping': False, 'clf__learning_rate': 'constant', 'clf__eta0': 0.01}\n",
      "Best parameters: {'sample_size': 400000, 'chi2_features': 30000, 'clf__alpha': 0.0001, 'clf__loss': 'squared_hinge', 'clf__penalty': 'elasticnet', 'clf__n_iter_no_change': 3, 'clf__early_stopping': False, 'clf__learning_rate': 'constant', 'clf__eta0': 0.01}\n"
     ]
    }
   ],
   "source": [
    "# # %%time\n",
    "# # # Define the parameters for exploration\n",
    "# # # First Run\n",
    "# # # param_grid = {\n",
    "# # #     'sample_size': [50000, 100000, 150000, 200000], # Example sizes, please adjust according to your needs\n",
    "# # #     'chi2_features': [10000, 20000, 30000], # Example feature numbers, please adjust according to your needs\n",
    "# # #     'clf__alpha': [1e-4, 1e-3, 1e-2],\n",
    "# # #     'clf__loss': ['hinge', 'log_loss', 'squared_hinge', ],\n",
    "# # #     'clf__penalty': ['elasticnet'],\n",
    "# # #     'clf__n_iter_no_change': [3],\n",
    "# # #     'clf__early_stopping': [True, False],\n",
    "# # #     'clf__learning_rate': ['constant', 'optimal', 'invscaling', 'adaptive'],\n",
    "# # #     'clf__eta0': [0.01, 0.1]\n",
    "# # # }\n",
    "\n",
    "# #Second Run\n",
    "# param_grid = {\n",
    "#     'sample_size': [100000, 200000, 300000, 400000, 500000], # Example sizes, please adjust according to your needs\n",
    "#     'chi2_features': [20000, 25000, 30000], # Example feature numbers, please adjust according to your needs\n",
    "#     'clf__alpha': [1e-4],\n",
    "#     'clf__loss': ['hinge', 'squared_hinge'], # 'squared_hinge' performs slightly better, but that is non-linear SVM\n",
    "#     'clf__penalty': ['elasticnet'],\n",
    "#     'clf__n_iter_no_change': [3],\n",
    "#     'clf__early_stopping': [False], # Does not show huge difference\n",
    "#     'clf__learning_rate': ['constant', 'adaptive'],\n",
    "#     'clf__eta0': [0.01]\n",
    "# }\n",
    "\n",
    "# # #Third Run\n",
    "# # param_grid = {\n",
    "# #     'sample_size': [200000, 250000, 300000, 400000], # Example sizes, please adjust according to your needs\n",
    "# #     'chi2_features': [20000, 22500, 25000], # Example feature numbers, please adjust according to your needs\n",
    "# #     'clf__alpha': [1e-4],\n",
    "# #     'clf__loss': ['log_loss'], # 'squared_hinge' performs slightly better, but that is non-linear SVM\n",
    "# #     'clf__penalty': ['elasticnet'],\n",
    "# #     'clf__n_iter_no_change': [3],\n",
    "# #     'clf__early_stopping': [False], # Does not show huge difference\n",
    "# #     'clf__learning_rate': ['constant'],\n",
    "# #     'clf__eta0': [0.01]\n",
    "# # }\n",
    "\n",
    "\n",
    "\n",
    "\n",
    "# # Grid search\n",
    "# # Here I will be defining a function to encapsulate the model training for different parameters\n",
    "# # For example, the 'sample_size' and 'chi2_features' parameters are not a part of the SGDClassifier\n",
    "# def grid_search_model(param_grid):\n",
    "#     best_params = None\n",
    "#     best_score = 0\n",
    "#     prev_score = 0\n",
    "    \n",
    "#     for sample_size in param_grid['sample_size']:\n",
    "#         for chi2_features in param_grid['chi2_features']:\n",
    "#             # Sample and transform the train data\n",
    "#             train_df_sample = train_df.sample(sample_size)\n",
    "            \n",
    "#             X_train = loaded_vectorizer.transform(train_df_sample['Consumer complaint narrative'])\n",
    "#             y_train = train_df_sample['debt_collection']\n",
    "            \n",
    "#             selector = SelectKBest(chi2, k=chi2_features)\n",
    "#             X_train = selector.fit_transform(X_train, y_train)\n",
    "#             # Transform dev set with the same selector\n",
    "#             X_dev_transformed = selector.transform(X_dev)\n",
    "            \n",
    "#             oversample = RandomOverSampler(sampling_strategy='minority')\n",
    "#             X_train, y_train = oversample.fit_resample(X_train, y_train)\n",
    "            \n",
    "#             # Shuffle your data\n",
    "#             X_train, y_train = shuffle(X_train, y_train)\n",
    "            \n",
    "#             # The product function is from Python's built-in itertools module. It computes the Cartesian product of input iterables, \n",
    "#             # which means it generates all possible combinations of the input iterables' elements.\n",
    "#             for params in product(\n",
    "#                 param_grid['clf__alpha'],\n",
    "#                 param_grid['clf__loss'],\n",
    "#                 param_grid['clf__penalty'],\n",
    "#                 param_grid['clf__n_iter_no_change'],\n",
    "#                 param_grid['clf__early_stopping'],\n",
    "#                 param_grid['clf__learning_rate'],\n",
    "#                 param_grid['clf__eta0']\n",
    "#             ):\n",
    "                \n",
    "#                 # Apply the parameters\n",
    "#                 alpha, loss, penalty, n_iter_no_change, early_stopping, learning_rate, eta0 = params\n",
    "                \n",
    "#                 clf = SGDClassifier(\n",
    "#                     loss=loss, \n",
    "#                     penalty=penalty, \n",
    "#                     alpha=alpha, \n",
    "#                     n_iter_no_change=n_iter_no_change, \n",
    "#                     early_stopping=early_stopping, \n",
    "#                     learning_rate=learning_rate, \n",
    "#                     eta0=eta0, \n",
    "#                     random_state=42\n",
    "#                 )\n",
    "#                 # Train and score the model\n",
    "#                 clf.fit(X_train, y_train)\n",
    "#                 # F1 score: This is the harmonic mean of precision and recall, and it tries to balance these two values. \n",
    "#                 # It is especially useful if your classes are unevenly distributed.\n",
    "#                 predicted = clf.predict(X_dev_transformed)\n",
    "#                 score = f1_score(y_dev, predicted)\n",
    "                \n",
    "#                 if score > best_score:\n",
    "#                     best_score = score\n",
    "#                     best_params = {\n",
    "#                         'sample_size': sample_size,\n",
    "#                         'chi2_features': chi2_features,\n",
    "#                         'clf__alpha': alpha,\n",
    "#                         'clf__loss': loss,\n",
    "#                         'clf__penalty': penalty,\n",
    "#                         'clf__n_iter_no_change': n_iter_no_change,\n",
    "#                         'clf__early_stopping': early_stopping,\n",
    "#                         'clf__learning_rate': learning_rate,\n",
    "#                         'clf__eta0': eta0\n",
    "#                     }\n",
    "#                     print(f\"New best score:{score} using {best_params}\")\n",
    "# #                 else:\n",
    "# #                     print(f\"Currentscore:{score} using {best_params}\")\n",
    "\n",
    "#                 # If the improvement in the score is less than 0.01, stop the iterations\n",
    "# #                 if abs(score - prev_score) < 0.01:\n",
    "# #                     return best_params\n",
    "\n",
    "#                 prev_score = score\n",
    "                    \n",
    "#     return best_params\n",
    "\n",
    "# best_params = grid_search_model(param_grid)\n",
    "# print(f'Best parameters: {best_params}')"
   ]
  },
  {
   "cell_type": "markdown",
   "id": "8d060940",
   "metadata": {},
   "source": [
    "### SVM"
   ]
  },
  {
   "cell_type": "code",
   "execution_count": 6,
   "id": "98e83770",
   "metadata": {},
   "outputs": [
    {
     "name": "stdout",
     "output_type": "stream",
     "text": [
      "Wall time: 1min 25s\n"
     ]
    },
    {
     "data": {
      "text/html": [
       "<style>#sk-container-id-1 {color: black;background-color: white;}#sk-container-id-1 pre{padding: 0;}#sk-container-id-1 div.sk-toggleable {background-color: white;}#sk-container-id-1 label.sk-toggleable__label {cursor: pointer;display: block;width: 100%;margin-bottom: 0;padding: 0.3em;box-sizing: border-box;text-align: center;}#sk-container-id-1 label.sk-toggleable__label-arrow:before {content: \"▸\";float: left;margin-right: 0.25em;color: #696969;}#sk-container-id-1 label.sk-toggleable__label-arrow:hover:before {color: black;}#sk-container-id-1 div.sk-estimator:hover label.sk-toggleable__label-arrow:before {color: black;}#sk-container-id-1 div.sk-toggleable__content {max-height: 0;max-width: 0;overflow: hidden;text-align: left;background-color: #f0f8ff;}#sk-container-id-1 div.sk-toggleable__content pre {margin: 0.2em;color: black;border-radius: 0.25em;background-color: #f0f8ff;}#sk-container-id-1 input.sk-toggleable__control:checked~div.sk-toggleable__content {max-height: 200px;max-width: 100%;overflow: auto;}#sk-container-id-1 input.sk-toggleable__control:checked~label.sk-toggleable__label-arrow:before {content: \"▾\";}#sk-container-id-1 div.sk-estimator input.sk-toggleable__control:checked~label.sk-toggleable__label {background-color: #d4ebff;}#sk-container-id-1 div.sk-label input.sk-toggleable__control:checked~label.sk-toggleable__label {background-color: #d4ebff;}#sk-container-id-1 input.sk-hidden--visually {border: 0;clip: rect(1px 1px 1px 1px);clip: rect(1px, 1px, 1px, 1px);height: 1px;margin: -1px;overflow: hidden;padding: 0;position: absolute;width: 1px;}#sk-container-id-1 div.sk-estimator {font-family: monospace;background-color: #f0f8ff;border: 1px dotted black;border-radius: 0.25em;box-sizing: border-box;margin-bottom: 0.5em;}#sk-container-id-1 div.sk-estimator:hover {background-color: #d4ebff;}#sk-container-id-1 div.sk-parallel-item::after {content: \"\";width: 100%;border-bottom: 1px solid gray;flex-grow: 1;}#sk-container-id-1 div.sk-label:hover label.sk-toggleable__label {background-color: #d4ebff;}#sk-container-id-1 div.sk-serial::before {content: \"\";position: absolute;border-left: 1px solid gray;box-sizing: border-box;top: 0;bottom: 0;left: 50%;z-index: 0;}#sk-container-id-1 div.sk-serial {display: flex;flex-direction: column;align-items: center;background-color: white;padding-right: 0.2em;padding-left: 0.2em;position: relative;}#sk-container-id-1 div.sk-item {position: relative;z-index: 1;}#sk-container-id-1 div.sk-parallel {display: flex;align-items: stretch;justify-content: center;background-color: white;position: relative;}#sk-container-id-1 div.sk-item::before, #sk-container-id-1 div.sk-parallel-item::before {content: \"\";position: absolute;border-left: 1px solid gray;box-sizing: border-box;top: 0;bottom: 0;left: 50%;z-index: -1;}#sk-container-id-1 div.sk-parallel-item {display: flex;flex-direction: column;z-index: 1;position: relative;background-color: white;}#sk-container-id-1 div.sk-parallel-item:first-child::after {align-self: flex-end;width: 50%;}#sk-container-id-1 div.sk-parallel-item:last-child::after {align-self: flex-start;width: 50%;}#sk-container-id-1 div.sk-parallel-item:only-child::after {width: 0;}#sk-container-id-1 div.sk-dashed-wrapped {border: 1px dashed gray;margin: 0 0.4em 0.5em 0.4em;box-sizing: border-box;padding-bottom: 0.4em;background-color: white;}#sk-container-id-1 div.sk-label label {font-family: monospace;font-weight: bold;display: inline-block;line-height: 1.2em;}#sk-container-id-1 div.sk-label-container {text-align: center;}#sk-container-id-1 div.sk-container {/* jupyter's `normalize.less` sets `[hidden] { display: none; }` but bootstrap.min.css set `[hidden] { display: none !important; }` so we also need the `!important` here to be able to override the default hidden behavior on the sphinx rendered scikit-learn.org. See: https://github.com/scikit-learn/scikit-learn/issues/21755 */display: inline-block !important;position: relative;}#sk-container-id-1 div.sk-text-repr-fallback {display: none;}</style><div id=\"sk-container-id-1\" class=\"sk-top-container\"><div class=\"sk-text-repr-fallback\"><pre>SGDClassifier(eta0=0.01, learning_rate=&#x27;constant&#x27;, loss=&#x27;squared_hinge&#x27;,\n",
       "              n_iter_no_change=3, penalty=&#x27;elasticnet&#x27;, random_state=42)</pre><b>In a Jupyter environment, please rerun this cell to show the HTML representation or trust the notebook. <br />On GitHub, the HTML representation is unable to render, please try loading this page with nbviewer.org.</b></div><div class=\"sk-container\" hidden><div class=\"sk-item\"><div class=\"sk-estimator sk-toggleable\"><input class=\"sk-toggleable__control sk-hidden--visually\" id=\"sk-estimator-id-1\" type=\"checkbox\" checked><label for=\"sk-estimator-id-1\" class=\"sk-toggleable__label sk-toggleable__label-arrow\">SGDClassifier</label><div class=\"sk-toggleable__content\"><pre>SGDClassifier(eta0=0.01, learning_rate=&#x27;constant&#x27;, loss=&#x27;squared_hinge&#x27;,\n",
       "              n_iter_no_change=3, penalty=&#x27;elasticnet&#x27;, random_state=42)</pre></div></div></div></div></div>"
      ],
      "text/plain": [
       "SGDClassifier(eta0=0.01, learning_rate='constant', loss='squared_hinge',\n",
       "              n_iter_no_change=3, penalty='elasticnet', random_state=42)"
      ]
     },
     "execution_count": 6,
     "metadata": {},
     "output_type": "execute_result"
    }
   ],
   "source": [
    "%%time\n",
    "sample_size =400000\n",
    "chi2_features = 30000\n",
    "alpha = 0.0001\n",
    "loss = 'squared_hinge'\n",
    "penalty=  'elasticnet'\n",
    "n_iter_no_change = 3\n",
    "early_stopping = False\n",
    "learning_rate = 'constant'\n",
    "eta0 =  0.01\n",
    "\n",
    "\n",
    "train_df_sample = train_df.sample(sample_size)\n",
    "            \n",
    "X_train = loaded_vectorizer.transform(train_df_sample['Consumer complaint narrative'])\n",
    "y_train = train_df_sample['debt_collection']\n",
    "\n",
    "selector = SelectKBest(chi2, k=chi2_features)\n",
    "X_train = selector.fit_transform(X_train, y_train)\n",
    "# Transform dev set with the same selector\n",
    "X_dev_transformed = selector.transform(X_dev)\n",
    "\n",
    "oversample = RandomOverSampler(sampling_strategy='minority')\n",
    "X_train, y_train = oversample.fit_resample(X_train, y_train)\n",
    "\n",
    "clf = SGDClassifier(\n",
    "                    loss=loss, \n",
    "                    penalty=penalty, \n",
    "                    alpha=alpha, \n",
    "                    n_iter_no_change=n_iter_no_change, \n",
    "                    early_stopping=early_stopping, \n",
    "                    learning_rate=learning_rate, \n",
    "                    eta0=eta0, \n",
    "                    random_state=42\n",
    "                )\n",
    "clf.fit(X_train, y_train)"
   ]
  },
  {
   "cell_type": "code",
   "execution_count": 8,
   "id": "2ed8226c",
   "metadata": {},
   "outputs": [
    {
     "name": "stdout",
     "output_type": "stream",
     "text": [
      "Train\n",
      "accuracy_score 0.8938022294707211\n",
      "balanced_accuracy_score 0.8938022294707211\n",
      "average_precision_score 0.860248566656397\n",
      "              precision    recall  f1-score   support\n",
      "\n",
      "           0       0.87      0.92      0.90    328957\n",
      "           1       0.91      0.87      0.89    328957\n",
      "\n",
      "    accuracy                           0.89    657914\n",
      "   macro avg       0.89      0.89      0.89    657914\n",
      "weighted avg       0.89      0.89      0.89    657914\n",
      "\n",
      "Prediction [(0, 345606), (1, 312308)]\n",
      "Ground Truth [(0, 328957), (1, 328957)]\n"
     ]
    }
   ],
   "source": [
    "# get the results\n",
    "y_pred = clf.predict(X_train.toarray())\n",
    "\n",
    "# Convert lists to arrays for further use\n",
    "y_pred = np.array(y_pred)\n",
    "\n",
    "print(\"Train\")\n",
    "print(\"accuracy_score\",accuracy_score(y_train, y_pred))\n",
    "print(\"balanced_accuracy_score\",balanced_accuracy_score(y_train, y_pred))\n",
    "print(\"average_precision_score\",average_precision_score(y_train, y_pred))\n",
    "print(classification_report(y_train, y_pred))\n",
    "\n",
    "c = Counter(y_pred)\n",
    "print(\"Prediction\", c.most_common(2))\n",
    "c = Counter(y_train)\n",
    "print(\"Ground Truth\",c.most_common(2))"
   ]
  },
  {
   "cell_type": "code",
   "execution_count": 9,
   "id": "ebee53e8",
   "metadata": {},
   "outputs": [
    {
     "name": "stdout",
     "output_type": "stream",
     "text": [
      "Train\n",
      "accuracy_score 0.9057627118644068\n",
      "balanced_accuracy_score 0.8845267432436247\n",
      "average_precision_score 0.6124947368370434\n",
      "              precision    recall  f1-score   support\n",
      "\n",
      "           0       0.97      0.92      0.94    136036\n",
      "           1       0.69      0.85      0.76     29164\n",
      "\n",
      "    accuracy                           0.91    165200\n",
      "   macro avg       0.83      0.88      0.85    165200\n",
      "weighted avg       0.92      0.91      0.91    165200\n",
      "\n",
      "Prediction [(0, 129118), (1, 36082)]\n",
      "Ground Truth [(0, 136036), (1, 29164)]\n"
     ]
    }
   ],
   "source": [
    "X_dev = selector.transform(X_dev)\n",
    "\n",
    "# get the results\n",
    "y_pred = clf.predict(X_dev.toarray())\n",
    "\n",
    "# Convert lists to arrays for further use\n",
    "y_pred = np.array(y_pred)\n",
    "\n",
    "print(\"Train\")\n",
    "print(\"accuracy_score\",accuracy_score(y_dev, y_pred))\n",
    "print(\"balanced_accuracy_score\",balanced_accuracy_score(y_dev, y_pred))\n",
    "print(\"average_precision_score\",average_precision_score(y_dev, y_pred))\n",
    "print(classification_report(y_dev, y_pred))\n",
    "\n",
    "c = Counter(y_pred)\n",
    "print(\"Prediction\", c.most_common(2))\n",
    "c = Counter(y_dev)\n",
    "print(\"Ground Truth\",c.most_common(2))"
   ]
  },
  {
   "cell_type": "markdown",
   "id": "ea54a351",
   "metadata": {},
   "source": [
    "svm - Parameter Combinations that will Yield Similar Good Results\n",
    "\n",
    "New best score:0.7470619614943179 using {'sample_size': 100000, 'chi2_features': 20000, 'clf__alpha': 0.0001, 'clf__loss': 'hinge', 'clf__penalty': 'elasticnet', 'clf__n_iter_no_change': 3, 'clf__early_stopping': False, 'clf__learning_rate': 'constant', 'clf__eta0': 0.01}\n",
    "\n",
    "**New best score:0.7472328306039226 using {'sample_size': 100000, 'chi2_features': 20000, 'clf__alpha': 0.0001, 'clf__loss': 'hinge', 'clf__penalty': 'elasticnet', 'clf__n_iter_no_change': 3, 'clf__early_stopping': False, 'clf__learning_rate': 'adaptive', 'clf__eta0': 0.01}**\n",
    "\n",
    "New best score:0.7528047984585263 using {'sample_size': 100000, 'chi2_features': 20000, 'clf__alpha': 0.0001, 'clf__loss': 'squared_hinge', 'clf__penalty': 'elasticnet', 'clf__n_iter_no_change': 3, 'clf__early_stopping': False, 'clf__learning_rate': 'constant', 'clf__eta0': 0.01}\n",
    "\n",
    "New best score:0.7537653896631461 using {'sample_size': 100000, 'chi2_features': 20000, 'clf__alpha': 0.0001, 'clf__loss': 'squared_hinge', 'clf__penalty': 'elasticnet', 'clf__n_iter_no_change': 3, 'clf__early_stopping': False, 'clf__learning_rate': 'adaptive', 'clf__eta0': 0.01}\n",
    "\n",
    "New best score:0.7545093625933914 using {'sample_size': 100000, 'chi2_features': 25000, 'clf__alpha': 0.0001, 'clf__loss': 'squared_hinge', 'clf__penalty': 'elasticnet', 'clf__n_iter_no_change': 3, 'clf__early_stopping': False, 'clf__learning_rate': 'constant', 'clf__eta0': 0.01}\n",
    "\n",
    "New best score:0.754944487073083 using {'sample_size': 100000, 'chi2_features': 25000, 'clf__alpha': 0.0001, 'clf__loss': 'squared_hinge', 'clf__penalty': 'elasticnet', 'clf__n_iter_no_change': 3, 'clf__early_stopping': False, 'clf__learning_rate': 'adaptive', 'clf__eta0': 0.01}\n",
    "\n",
    "New best score:0.7610322139090667 using {'sample_size': 200000, 'chi2_features': 20000, 'clf__alpha': 0.0001, 'clf__loss': 'squared_hinge', 'clf__penalty': 'elasticnet', 'clf__n_iter_no_change': 3, 'clf__early_stopping': False, 'clf__learning_rate': 'constant', 'clf__eta0': 0.01}\n",
    "\n",
    "**New best score:0.7613263958996661 using {'sample_size': 200000, 'chi2_features': 20000, 'clf__alpha': 0.0001, 'clf__loss': 'squared_hinge', 'clf__penalty': 'elasticnet', 'clf__n_iter_no_change': 3, 'clf__early_stopping': False, 'clf__learning_rate': 'adaptive', 'clf__eta0': 0.01}**\n",
    "\n",
    "New best score:0.7615425218120284 using {'sample_size': 200000, 'chi2_features': 25000, 'clf__alpha': 0.0001, 'clf__loss': 'squared_hinge', 'clf__penalty': 'elasticnet', 'clf__n_iter_no_change': 3, 'clf__early_stopping': False, 'clf__learning_rate': 'adaptive', 'clf__eta0': 0.01}\n",
    "\n",
    "New best score:0.7618870093356324 using {'sample_size': 200000, 'chi2_features': 30000, 'clf__alpha': 0.0001, 'clf__loss': 'squared_hinge', 'clf__penalty': 'elasticnet', 'clf__n_iter_no_change': 3, 'clf__early_stopping': False, 'clf__learning_rate': 'adaptive', 'clf__eta0': 0.01}\n",
    "\n",
    "New best score:0.7630364881867747 using {'sample_size': 300000, 'chi2_features': 20000, 'clf__alpha': 0.0001, 'clf__loss': 'squared_hinge', 'clf__penalty': 'elasticnet', 'clf__n_iter_no_change': 3, 'clf__early_stopping': False, 'clf__learning_rate': 'adaptive', 'clf__eta0': 0.01}\n",
    "\n",
    "**New best score:0.765276310064027 using {'sample_size': 400000, 'chi2_features': 30000, 'clf__alpha': 0.0001, 'clf__loss': 'squared_hinge', 'clf__penalty': 'elasticnet', 'clf__n_iter_no_change': 3, 'clf__early_stopping': False, 'clf__learning_rate': 'constant', 'clf__eta0': 0.01}**\n",
    "\n",
    "Best parameters: {'sample_size': 400000, 'chi2_features': 30000, 'clf__alpha': 0.0001, 'clf__loss': 'squared_hinge', 'clf__penalty': 'elasticnet', 'clf__n_iter_no_change': 3, 'clf__early_stopping': False, 'clf__learning_rate': 'constant', 'clf__eta0': 0.01}"
   ]
  },
  {
   "cell_type": "markdown",
   "id": "301577c7",
   "metadata": {},
   "source": [
    "It requires 200,000 samples and about 20,000 features to yield acceptable results.\n",
    "\n",
    "But best results yield from 400,000 samples with 30,000 features."
   ]
  },
  {
   "cell_type": "code",
   "execution_count": null,
   "id": "c3d4df82",
   "metadata": {},
   "outputs": [],
   "source": []
  }
 ],
 "metadata": {
  "kernelspec": {
   "display_name": "Python 3 (ipykernel)",
   "language": "python",
   "name": "python3"
  },
  "language_info": {
   "codemirror_mode": {
    "name": "ipython",
    "version": 3
   },
   "file_extension": ".py",
   "mimetype": "text/x-python",
   "name": "python",
   "nbconvert_exporter": "python",
   "pygments_lexer": "ipython3",
   "version": "3.9.13"
  }
 },
 "nbformat": 4,
 "nbformat_minor": 5
}
