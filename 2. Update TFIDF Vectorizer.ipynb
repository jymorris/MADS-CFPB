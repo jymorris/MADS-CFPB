{
 "cells": [
  {
   "cell_type": "code",
   "execution_count": 1,
   "id": "96a906dd",
   "metadata": {},
   "outputs": [],
   "source": [
    "import pandas as pd\n",
    "import numpy as np"
   ]
  },
  {
   "cell_type": "code",
   "execution_count": 2,
   "id": "66bac054",
   "metadata": {},
   "outputs": [
    {
     "name": "stderr",
     "output_type": "stream",
     "text": [
      "[nltk_data] Downloading package stopwords to\n",
      "[nltk_data]     C:\\Users\\JYM\\AppData\\Roaming\\nltk_data...\n",
      "[nltk_data]   Package stopwords is already up-to-date!\n",
      "[nltk_data] Downloading package wordnet to\n",
      "[nltk_data]     C:\\Users\\JYM\\AppData\\Roaming\\nltk_data...\n",
      "[nltk_data]   Package wordnet is already up-to-date!\n",
      "[nltk_data] Downloading package omw-1.4 to\n",
      "[nltk_data]     C:\\Users\\JYM\\AppData\\Roaming\\nltk_data...\n",
      "[nltk_data]   Package omw-1.4 is already up-to-date!\n"
     ]
    }
   ],
   "source": [
    "# for processing\n",
    "import re\n",
    "import nltk\n",
    "from nltk.corpus import stopwords\n",
    "nltk.download('stopwords')\n",
    "nltk.download('wordnet')\n",
    "nltk.download('omw-1.4')\n",
    "\n",
    "# for bag-of-words\n",
    "from sklearn import feature_extraction, feature_selection, model_selection, naive_bayes, pipeline, manifold, preprocessing, metrics\n",
    "from sklearn.model_selection import train_test_split\n",
    "from sklearn.utils import resample\n",
    "\n",
    "## for train test split\n",
    "import imblearn"
   ]
  },
  {
   "cell_type": "code",
   "execution_count": 3,
   "id": "85ae6e77",
   "metadata": {},
   "outputs": [
    {
     "data": {
      "text/html": [
       "<style>.container { width:100% !important; }</style>"
      ],
      "text/plain": [
       "<IPython.core.display.HTML object>"
      ]
     },
     "metadata": {},
     "output_type": "display_data"
    }
   ],
   "source": [
    "from IPython.display import display, HTML\n",
    "display(HTML(\"<style>.container { width:100% !important; }</style>\"))"
   ]
  },
  {
   "cell_type": "code",
   "execution_count": 4,
   "id": "408b68cb",
   "metadata": {},
   "outputs": [
    {
     "name": "stderr",
     "output_type": "stream",
     "text": [
      "C:\\Users\\JYM\\AppData\\Local\\Temp/ipykernel_37400/889607879.py:1: DtypeWarning: Columns (10) have mixed types. Specify dtype option on import or set low_memory=False.\n",
      "  cfpb_df = pd.read_csv('../../data/CFPB with Duplicate Marked.csv')\n"
     ]
    },
    {
     "name": "stdout",
     "output_type": "stream",
     "text": [
      "Index(['Unnamed: 0', 'Date received', 'Product', 'Sub-product', 'Issue',\n",
      "       'Sub-issue', 'Consumer complaint narrative', 'Company public response',\n",
      "       'Company', 'State', 'ZIP code', 'Tags', 'Consumer consent provided?',\n",
      "       'Submitted via', 'Date sent to company', 'Company response to consumer',\n",
      "       'Timely response?', 'Consumer disputed?', 'Complaint ID', 'narr_len',\n",
      "       'days_to_today', 'dupi_id', 'dupi_len'],\n",
      "      dtype='object')\n",
      "(1300361, 23)\n"
     ]
    }
   ],
   "source": [
    "cfpb_df = pd.read_csv('../../data/CFPB with Duplicate Marked.csv')\n",
    "print(cfpb_df.columns)\n",
    "print(cfpb_df.shape)"
   ]
  },
  {
   "cell_type": "code",
   "execution_count": 5,
   "id": "556d7bd4",
   "metadata": {},
   "outputs": [],
   "source": [
    "# cfpb_df[cfpb_df.dupi_len>3].sample()['dupi_id']"
   ]
  },
  {
   "cell_type": "code",
   "execution_count": 6,
   "id": "65d4ff89",
   "metadata": {},
   "outputs": [],
   "source": [
    "# cfpb_df[cfpb_df['Complaint ID'].isin([3726741,3726748,3751618,3751630])][['Consumer complaint narrative','Company']]"
   ]
  },
  {
   "cell_type": "code",
   "execution_count": 7,
   "id": "a0dc6158",
   "metadata": {},
   "outputs": [
    {
     "name": "stdout",
     "output_type": "stream",
     "text": [
      "(1106587, 23)\n",
      "Wall time: 457 ms\n"
     ]
    }
   ],
   "source": [
    "%%time\n",
    "# Drop duplicates based on 'dupi_id' column\n",
    "cfpb_df = cfpb_df.drop_duplicates(subset='dupi_id')\n",
    "print(cfpb_df.shape)"
   ]
  },
  {
   "cell_type": "markdown",
   "id": "4629a0bb",
   "metadata": {},
   "source": [
    "### See what we have with the TF-IDF vectorier"
   ]
  },
  {
   "cell_type": "code",
   "execution_count": 8,
   "id": "a0ecec57",
   "metadata": {},
   "outputs": [
    {
     "data": {
      "text/html": [
       "<style>#sk-container-id-1 {color: black;background-color: white;}#sk-container-id-1 pre{padding: 0;}#sk-container-id-1 div.sk-toggleable {background-color: white;}#sk-container-id-1 label.sk-toggleable__label {cursor: pointer;display: block;width: 100%;margin-bottom: 0;padding: 0.3em;box-sizing: border-box;text-align: center;}#sk-container-id-1 label.sk-toggleable__label-arrow:before {content: \"▸\";float: left;margin-right: 0.25em;color: #696969;}#sk-container-id-1 label.sk-toggleable__label-arrow:hover:before {color: black;}#sk-container-id-1 div.sk-estimator:hover label.sk-toggleable__label-arrow:before {color: black;}#sk-container-id-1 div.sk-toggleable__content {max-height: 0;max-width: 0;overflow: hidden;text-align: left;background-color: #f0f8ff;}#sk-container-id-1 div.sk-toggleable__content pre {margin: 0.2em;color: black;border-radius: 0.25em;background-color: #f0f8ff;}#sk-container-id-1 input.sk-toggleable__control:checked~div.sk-toggleable__content {max-height: 200px;max-width: 100%;overflow: auto;}#sk-container-id-1 input.sk-toggleable__control:checked~label.sk-toggleable__label-arrow:before {content: \"▾\";}#sk-container-id-1 div.sk-estimator input.sk-toggleable__control:checked~label.sk-toggleable__label {background-color: #d4ebff;}#sk-container-id-1 div.sk-label input.sk-toggleable__control:checked~label.sk-toggleable__label {background-color: #d4ebff;}#sk-container-id-1 input.sk-hidden--visually {border: 0;clip: rect(1px 1px 1px 1px);clip: rect(1px, 1px, 1px, 1px);height: 1px;margin: -1px;overflow: hidden;padding: 0;position: absolute;width: 1px;}#sk-container-id-1 div.sk-estimator {font-family: monospace;background-color: #f0f8ff;border: 1px dotted black;border-radius: 0.25em;box-sizing: border-box;margin-bottom: 0.5em;}#sk-container-id-1 div.sk-estimator:hover {background-color: #d4ebff;}#sk-container-id-1 div.sk-parallel-item::after {content: \"\";width: 100%;border-bottom: 1px solid gray;flex-grow: 1;}#sk-container-id-1 div.sk-label:hover label.sk-toggleable__label {background-color: #d4ebff;}#sk-container-id-1 div.sk-serial::before {content: \"\";position: absolute;border-left: 1px solid gray;box-sizing: border-box;top: 0;bottom: 0;left: 50%;z-index: 0;}#sk-container-id-1 div.sk-serial {display: flex;flex-direction: column;align-items: center;background-color: white;padding-right: 0.2em;padding-left: 0.2em;position: relative;}#sk-container-id-1 div.sk-item {position: relative;z-index: 1;}#sk-container-id-1 div.sk-parallel {display: flex;align-items: stretch;justify-content: center;background-color: white;position: relative;}#sk-container-id-1 div.sk-item::before, #sk-container-id-1 div.sk-parallel-item::before {content: \"\";position: absolute;border-left: 1px solid gray;box-sizing: border-box;top: 0;bottom: 0;left: 50%;z-index: -1;}#sk-container-id-1 div.sk-parallel-item {display: flex;flex-direction: column;z-index: 1;position: relative;background-color: white;}#sk-container-id-1 div.sk-parallel-item:first-child::after {align-self: flex-end;width: 50%;}#sk-container-id-1 div.sk-parallel-item:last-child::after {align-self: flex-start;width: 50%;}#sk-container-id-1 div.sk-parallel-item:only-child::after {width: 0;}#sk-container-id-1 div.sk-dashed-wrapped {border: 1px dashed gray;margin: 0 0.4em 0.5em 0.4em;box-sizing: border-box;padding-bottom: 0.4em;background-color: white;}#sk-container-id-1 div.sk-label label {font-family: monospace;font-weight: bold;display: inline-block;line-height: 1.2em;}#sk-container-id-1 div.sk-label-container {text-align: center;}#sk-container-id-1 div.sk-container {/* jupyter's `normalize.less` sets `[hidden] { display: none; }` but bootstrap.min.css set `[hidden] { display: none !important; }` so we also need the `!important` here to be able to override the default hidden behavior on the sphinx rendered scikit-learn.org. See: https://github.com/scikit-learn/scikit-learn/issues/21755 */display: inline-block !important;position: relative;}#sk-container-id-1 div.sk-text-repr-fallback {display: none;}</style><div id=\"sk-container-id-1\" class=\"sk-top-container\"><div class=\"sk-text-repr-fallback\"><pre>TfidfVectorizer(lowercase=False, ngram_range=(1, 4))</pre><b>In a Jupyter environment, please rerun this cell to show the HTML representation or trust the notebook. <br />On GitHub, the HTML representation is unable to render, please try loading this page with nbviewer.org.</b></div><div class=\"sk-container\" hidden><div class=\"sk-item\"><div class=\"sk-estimator sk-toggleable\"><input class=\"sk-toggleable__control sk-hidden--visually\" id=\"sk-estimator-id-1\" type=\"checkbox\" checked><label for=\"sk-estimator-id-1\" class=\"sk-toggleable__label sk-toggleable__label-arrow\">TfidfVectorizer</label><div class=\"sk-toggleable__content\"><pre>TfidfVectorizer(lowercase=False, ngram_range=(1, 4))</pre></div></div></div></div></div>"
      ],
      "text/plain": [
       "TfidfVectorizer(lowercase=False, ngram_range=(1, 4))"
      ]
     },
     "execution_count": 8,
     "metadata": {},
     "output_type": "execute_result"
    }
   ],
   "source": [
    "from sklearn.feature_extraction.text import CountVectorizer, TfidfVectorizer\n",
    "vectorizer = TfidfVectorizer(lowercase = False,ngram_range = (1,4))\n",
    "vectorizer.fit(cfpb_df['Consumer complaint narrative'])\n",
    "# This takes about 36GB RAM"
   ]
  },
  {
   "cell_type": "code",
   "execution_count": 9,
   "id": "b4106f0e",
   "metadata": {},
   "outputs": [],
   "source": [
    "# Extract the vocabulary and idf score\n",
    "ngrams = vectorizer.get_feature_names_out()\n",
    "# This takes about 31GB RAM"
   ]
  },
  {
   "cell_type": "code",
   "execution_count": 10,
   "id": "515255c7",
   "metadata": {},
   "outputs": [
    {
     "name": "stdout",
     "output_type": "stream",
     "text": [
      "121189318\n"
     ]
    }
   ],
   "source": [
    "print(len(ngrams))"
   ]
  },
  {
   "cell_type": "code",
   "execution_count": 13,
   "id": "90c049ed",
   "metadata": {},
   "outputs": [
    {
     "name": "stdout",
     "output_type": "stream",
     "text": [
      "Wall time: 1min 35s\n"
     ]
    }
   ],
   "source": [
    "%%time\n",
    "stop_words = set(stopwords.words('english'))\n",
    "number_pattern = re.compile(r'^\\d+|\\d+$')  # match numbers at the start or end of a string\n",
    "# regular expression to match repeating characters\n",
    "repeating_chars_pattern = re.compile(r'^(.)\\1*$')\n",
    "\n",
    "filtered_vocab = {}\n",
    "\n",
    "def clean_features(ngram):\n",
    "    words = ngram.split()  # splits the n-gram into individual words\n",
    "    # check if the n-gram starts/ends with a stop word or a number\n",
    "    if (words[0] in stop_words or words[-1] in stop_words) or (number_pattern.match(words[0]) or number_pattern.match(words[-1]) or (repeating_chars_pattern.match(words[0]) or repeating_chars_pattern.match(words[-1]))):\n",
    "        return False\n",
    "    return True\n",
    "\n",
    "ngrams_to_keep = [ngram for ngram in ngrams if clean_features(ngram)]"
   ]
  },
  {
   "cell_type": "code",
   "execution_count": 14,
   "id": "d2cb1790",
   "metadata": {},
   "outputs": [
    {
     "name": "stdout",
     "output_type": "stream",
     "text": [
      "46761914\n"
     ]
    }
   ],
   "source": [
    "print(len(ngrams_to_keep))"
   ]
  },
  {
   "cell_type": "markdown",
   "id": "bb77f68e",
   "metadata": {},
   "source": [
    "### Round 2! Find proper document frequency thresholds"
   ]
  },
  {
   "cell_type": "code",
   "execution_count": 15,
   "id": "a63a2d65",
   "metadata": {},
   "outputs": [
    {
     "name": "stdout",
     "output_type": "stream",
     "text": [
      "Wall time: 8min 14s\n"
     ]
    }
   ],
   "source": [
    "%%time\n",
    "from sklearn.feature_extraction.text import CountVectorizer, TfidfVectorizer\n",
    "from collections import Counter\n",
    "import matplotlib.pyplot as plt\n",
    "\n",
    "# Creating a new vectorizer with your filtered vocabulary\n",
    "filtered_vectorizer = TfidfVectorizer(lowercase=False, vocabulary=ngrams_to_keep, ngram_range=(1,4))\n",
    "\n",
    "# Fitting the vectorizer and transforming the narratives\n",
    "X = filtered_vectorizer.fit_transform(cfpb_df['Consumer complaint narrative'])"
   ]
  },
  {
   "cell_type": "code",
   "execution_count": 16,
   "id": "b699d4de",
   "metadata": {},
   "outputs": [],
   "source": [
    "# Get the term frequencies\n",
    "tf = np.sum(X, axis=0).A1\n",
    "\n",
    "# Get the document frequencies\n",
    "df = np.sum((X > 0), axis=0).A1"
   ]
  },
  {
   "cell_type": "code",
   "execution_count": 17,
   "id": "a20f9ac3",
   "metadata": {},
   "outputs": [
    {
     "data": {
      "image/png": "[encoded data removed]",
      "text/plain": [
       "<Figure size 1000x1000 with 2 Axes>"
      ]
     },
     "metadata": {},
     "output_type": "display_data"
    }
   ],
   "source": [
    "# Creating histograms for Term Frequencies and Document Frequencies\n",
    "fig, axs = plt.subplots(2, figsize=(10, 10))\n",
    "\n",
    "axs[0].hist(tf, bins=10000)\n",
    "axs[0].set_title('Term Frequencies')\n",
    "axs[0].set_yscale('log')  # Using log scale for better visualization\n",
    "axs[0].set_xlim([0, 50000])  # Set x-axis limit to 0-5000\n",
    "\n",
    "\n",
    "axs[1].hist(df, bins=10000)\n",
    "axs[1].set_title('Document Frequencies')\n",
    "axs[1].set_yscale('log')  # Using log scale for better visualization\n",
    "axs[1].set_xlim([0, 50000])  # Set x-axis limit to 0-5000\n",
    "\n",
    "\n",
    "plt.tight_layout()\n",
    "plt.show()"
   ]
  },
  {
   "cell_type": "code",
   "execution_count": 18,
   "id": "278d2d11",
   "metadata": {},
   "outputs": [
    {
     "data": {
      "image/png": "[encoded data removed]",
      "text/plain": [
       "<Figure size 1000x1000 with 2 Axes>"
      ]
     },
     "metadata": {},
     "output_type": "display_data"
    }
   ],
   "source": [
    "# Creating histograms for Term Frequencies and Document Frequencies\n",
    "fig, axs = plt.subplots(2, figsize=(10, 10))\n",
    "\n",
    "axs[0].hist(tf, bins=10000)\n",
    "axs[0].set_title('Term Frequencies')\n",
    "axs[0].set_yscale('log')  # Using log scale for better visualization\n",
    "axs[0].set_xlim([0, 5000])  # Set x-axis limit to 0-5000\n",
    "\n",
    "\n",
    "axs[1].hist(df, bins=10000)\n",
    "axs[1].set_title('Document Frequencies')\n",
    "axs[1].set_yscale('log')  # Using log scale for better visualization\n",
    "axs[1].set_xlim([0, 10000])  # Set x-axis limit to 0-5000\n",
    "\n",
    "\n",
    "plt.tight_layout()\n",
    "plt.show()"
   ]
  },
  {
   "cell_type": "markdown",
   "id": "b774da55",
   "metadata": {},
   "source": [
    "### Round 3! Further Reduce n-gram Features By through variance and correlation"
   ]
  },
  {
   "cell_type": "code",
   "execution_count": 38,
   "id": "8b5f8205",
   "metadata": {},
   "outputs": [
    {
     "name": "stdout",
     "output_type": "stream",
     "text": [
      "Wall time: 7min 46s\n"
     ]
    },
    {
     "data": {
      "text/html": [
       "<style>#sk-container-id-3 {color: black;background-color: white;}#sk-container-id-3 pre{padding: 0;}#sk-container-id-3 div.sk-toggleable {background-color: white;}#sk-container-id-3 label.sk-toggleable__label {cursor: pointer;display: block;width: 100%;margin-bottom: 0;padding: 0.3em;box-sizing: border-box;text-align: center;}#sk-container-id-3 label.sk-toggleable__label-arrow:before {content: \"▸\";float: left;margin-right: 0.25em;color: #696969;}#sk-container-id-3 label.sk-toggleable__label-arrow:hover:before {color: black;}#sk-container-id-3 div.sk-estimator:hover label.sk-toggleable__label-arrow:before {color: black;}#sk-container-id-3 div.sk-toggleable__content {max-height: 0;max-width: 0;overflow: hidden;text-align: left;background-color: #f0f8ff;}#sk-container-id-3 div.sk-toggleable__content pre {margin: 0.2em;color: black;border-radius: 0.25em;background-color: #f0f8ff;}#sk-container-id-3 input.sk-toggleable__control:checked~div.sk-toggleable__content {max-height: 200px;max-width: 100%;overflow: auto;}#sk-container-id-3 input.sk-toggleable__control:checked~label.sk-toggleable__label-arrow:before {content: \"▾\";}#sk-container-id-3 div.sk-estimator input.sk-toggleable__control:checked~label.sk-toggleable__label {background-color: #d4ebff;}#sk-container-id-3 div.sk-label input.sk-toggleable__control:checked~label.sk-toggleable__label {background-color: #d4ebff;}#sk-container-id-3 input.sk-hidden--visually {border: 0;clip: rect(1px 1px 1px 1px);clip: rect(1px, 1px, 1px, 1px);height: 1px;margin: -1px;overflow: hidden;padding: 0;position: absolute;width: 1px;}#sk-container-id-3 div.sk-estimator {font-family: monospace;background-color: #f0f8ff;border: 1px dotted black;border-radius: 0.25em;box-sizing: border-box;margin-bottom: 0.5em;}#sk-container-id-3 div.sk-estimator:hover {background-color: #d4ebff;}#sk-container-id-3 div.sk-parallel-item::after {content: \"\";width: 100%;border-bottom: 1px solid gray;flex-grow: 1;}#sk-container-id-3 div.sk-label:hover label.sk-toggleable__label {background-color: #d4ebff;}#sk-container-id-3 div.sk-serial::before {content: \"\";position: absolute;border-left: 1px solid gray;box-sizing: border-box;top: 0;bottom: 0;left: 50%;z-index: 0;}#sk-container-id-3 div.sk-serial {display: flex;flex-direction: column;align-items: center;background-color: white;padding-right: 0.2em;padding-left: 0.2em;position: relative;}#sk-container-id-3 div.sk-item {position: relative;z-index: 1;}#sk-container-id-3 div.sk-parallel {display: flex;align-items: stretch;justify-content: center;background-color: white;position: relative;}#sk-container-id-3 div.sk-item::before, #sk-container-id-3 div.sk-parallel-item::before {content: \"\";position: absolute;border-left: 1px solid gray;box-sizing: border-box;top: 0;bottom: 0;left: 50%;z-index: -1;}#sk-container-id-3 div.sk-parallel-item {display: flex;flex-direction: column;z-index: 1;position: relative;background-color: white;}#sk-container-id-3 div.sk-parallel-item:first-child::after {align-self: flex-end;width: 50%;}#sk-container-id-3 div.sk-parallel-item:last-child::after {align-self: flex-start;width: 50%;}#sk-container-id-3 div.sk-parallel-item:only-child::after {width: 0;}#sk-container-id-3 div.sk-dashed-wrapped {border: 1px dashed gray;margin: 0 0.4em 0.5em 0.4em;box-sizing: border-box;padding-bottom: 0.4em;background-color: white;}#sk-container-id-3 div.sk-label label {font-family: monospace;font-weight: bold;display: inline-block;line-height: 1.2em;}#sk-container-id-3 div.sk-label-container {text-align: center;}#sk-container-id-3 div.sk-container {/* jupyter's `normalize.less` sets `[hidden] { display: none; }` but bootstrap.min.css set `[hidden] { display: none !important; }` so we also need the `!important` here to be able to override the default hidden behavior on the sphinx rendered scikit-learn.org. See: https://github.com/scikit-learn/scikit-learn/issues/21755 */display: inline-block !important;position: relative;}#sk-container-id-3 div.sk-text-repr-fallback {display: none;}</style><div id=\"sk-container-id-3\" class=\"sk-top-container\"><div class=\"sk-text-repr-fallback\"><pre>TfidfVectorizer(lowercase=False, max_df=0.8, min_df=1500, ngram_range=(1, 4),\n",
       "                vocabulary=[&#x27;A0&#x27;, &#x27;A0 15 USC&#x27;, &#x27;A0 would&#x27;, &#x27;A0 would like&#x27;,\n",
       "                            &#x27;A01&#x27;, &#x27;A01 15 USC&#x27;, &#x27;A02&#x27;, &#x27;A02 No&#x27;,\n",
       "                            &#x27;A02 No Valid&#x27;, &#x27;A02 No Valid Authorization&#x27;, &#x27;A1&#x27;,\n",
       "                            &#x27;A1 15 Code&#x27;, &#x27;A1 15 US&#x27;, &#x27;A1 15 US code&#x27;,\n",
       "                            &#x27;A1 621 A1&#x27;, &#x27;A1 623 A1&#x27;, &#x27;A1 A2&#x27;, &#x27;A1 A2 A3&#x27;,\n",
       "                            &#x27;A1 A2 A3 A4&#x27;, &#x27;A1 A2 in attached&#x27;,\n",
       "                            &#x27;A1 A2 signature&#x27;, &#x27;A1 A6&#x27;, &#x27;A1 A6 and A7&#x27;,\n",
       "                            &#x27;A1 Accuracy&#x27;, &#x27;A1 Accuracy and fairness&#x27;,\n",
       "                            &#x27;A1 Action&#x27;, &#x27;A1 Action Cash&#x27;, &#x27;A1 Collection&#x27;,\n",
       "                            &#x27;A1 Collection Service&#x27;, &#x27;A1 Collections&#x27;, ...])</pre><b>In a Jupyter environment, please rerun this cell to show the HTML representation or trust the notebook. <br />On GitHub, the HTML representation is unable to render, please try loading this page with nbviewer.org.</b></div><div class=\"sk-container\" hidden><div class=\"sk-item\"><div class=\"sk-estimator sk-toggleable\"><input class=\"sk-toggleable__control sk-hidden--visually\" id=\"sk-estimator-id-3\" type=\"checkbox\" checked><label for=\"sk-estimator-id-3\" class=\"sk-toggleable__label sk-toggleable__label-arrow\">TfidfVectorizer</label><div class=\"sk-toggleable__content\"><pre>TfidfVectorizer(lowercase=False, max_df=0.8, min_df=1500, ngram_range=(1, 4),\n",
       "                vocabulary=[&#x27;A0&#x27;, &#x27;A0 15 USC&#x27;, &#x27;A0 would&#x27;, &#x27;A0 would like&#x27;,\n",
       "                            &#x27;A01&#x27;, &#x27;A01 15 USC&#x27;, &#x27;A02&#x27;, &#x27;A02 No&#x27;,\n",
       "                            &#x27;A02 No Valid&#x27;, &#x27;A02 No Valid Authorization&#x27;, &#x27;A1&#x27;,\n",
       "                            &#x27;A1 15 Code&#x27;, &#x27;A1 15 US&#x27;, &#x27;A1 15 US code&#x27;,\n",
       "                            &#x27;A1 621 A1&#x27;, &#x27;A1 623 A1&#x27;, &#x27;A1 A2&#x27;, &#x27;A1 A2 A3&#x27;,\n",
       "                            &#x27;A1 A2 A3 A4&#x27;, &#x27;A1 A2 in attached&#x27;,\n",
       "                            &#x27;A1 A2 signature&#x27;, &#x27;A1 A6&#x27;, &#x27;A1 A6 and A7&#x27;,\n",
       "                            &#x27;A1 Accuracy&#x27;, &#x27;A1 Accuracy and fairness&#x27;,\n",
       "                            &#x27;A1 Action&#x27;, &#x27;A1 Action Cash&#x27;, &#x27;A1 Collection&#x27;,\n",
       "                            &#x27;A1 Collection Service&#x27;, &#x27;A1 Collections&#x27;, ...])</pre></div></div></div></div></div>"
      ],
      "text/plain": [
       "TfidfVectorizer(lowercase=False, max_df=0.8, min_df=1500, ngram_range=(1, 4),\n",
       "                vocabulary=['A0', 'A0 15 USC', 'A0 would', 'A0 would like',\n",
       "                            'A01', 'A01 15 USC', 'A02', 'A02 No',\n",
       "                            'A02 No Valid', 'A02 No Valid Authorization', 'A1',\n",
       "                            'A1 15 Code', 'A1 15 US', 'A1 15 US code',\n",
       "                            'A1 621 A1', 'A1 623 A1', 'A1 A2', 'A1 A2 A3',\n",
       "                            'A1 A2 A3 A4', 'A1 A2 in attached',\n",
       "                            'A1 A2 signature', 'A1 A6', 'A1 A6 and A7',\n",
       "                            'A1 Accuracy', 'A1 Accuracy and fairness',\n",
       "                            'A1 Action', 'A1 Action Cash', 'A1 Collection',\n",
       "                            'A1 Collection Service', 'A1 Collections', ...])"
      ]
     },
     "execution_count": 38,
     "metadata": {},
     "output_type": "execute_result"
    }
   ],
   "source": [
    "%%time\n",
    "from sklearn.feature_extraction.text import CountVectorizer, TfidfVectorizer\n",
    "from collections import Counter\n",
    "import matplotlib.pyplot as plt\n",
    "\n",
    "# Creating a new vectorizer with your filtered vocabulary, the max_df is actually 0.08 by calculation\n",
    "filtered_vectorizer = TfidfVectorizer(lowercase=False, vocabulary=ngrams_to_keep, ngram_range=(1,4), max_df=0.8, min_df=1500)\n",
    "\n",
    "# Fitting the vectorizer and transforming the narratives\n",
    "filtered_vectorizer.fit(cfpb_df['Consumer complaint narrative'])\n",
    "# X = filtered_vectorizer.fit_transform(cfpb_df['Consumer complaint narrative'])"
   ]
  },
  {
   "cell_type": "code",
   "execution_count": 39,
   "id": "e65e4dbb",
   "metadata": {},
   "outputs": [
    {
     "name": "stdout",
     "output_type": "stream",
     "text": [
      "Wall time: 8min 5s\n"
     ]
    }
   ],
   "source": [
    "%%time\n",
    "X = filtered_vectorizer.fit_transform(cfpb_df['Consumer complaint narrative'])"
   ]
  },
  {
   "cell_type": "code",
   "execution_count": 40,
   "id": "b9dea346",
   "metadata": {},
   "outputs": [],
   "source": [
    "new_ngrams = filtered_vectorizer.get_feature_names_out()"
   ]
  },
  {
   "cell_type": "code",
   "execution_count": 41,
   "id": "1fa3c310",
   "metadata": {},
   "outputs": [
    {
     "name": "stdout",
     "output_type": "stream",
     "text": [
      "46761914\n"
     ]
    }
   ],
   "source": [
    "print(len(new_ngrams))"
   ]
  },
  {
   "cell_type": "code",
   "execution_count": 42,
   "id": "eb88e883",
   "metadata": {},
   "outputs": [
    {
     "name": "stdout",
     "output_type": "stream",
     "text": [
      "Wall time: 207 ms\n"
     ]
    }
   ],
   "source": [
    "%%time\n",
    "y = cfpb_df.Product.apply(lambda x: 1 if x==\"Debt collection\" else 0)"
   ]
  },
  {
   "cell_type": "code",
   "execution_count": 43,
   "id": "f19ff4d6",
   "metadata": {},
   "outputs": [
    {
     "data": {
      "text/plain": [
       "0    911771\n",
       "1    194816\n",
       "Name: Product, dtype: int64"
      ]
     },
     "execution_count": 43,
     "metadata": {},
     "output_type": "execute_result"
    }
   ],
   "source": [
    "y.value_counts()"
   ]
  },
  {
   "cell_type": "code",
   "execution_count": 44,
   "id": "62e884a9",
   "metadata": {},
   "outputs": [
    {
     "name": "stdout",
     "output_type": "stream",
     "text": [
      "Wall time: 10.4 s\n"
     ]
    }
   ],
   "source": [
    "%%time\n",
    "from sklearn.feature_selection import chi2\n",
    "\n",
    "# Assume that `y` is your target variable\n",
    "# `X` is your feature matrix (output of TfidfVectorizer)\n",
    "\n",
    "# Compute chi2 scores and p-values for all features\n",
    "chi2_scores, p_values = chi2(X, y)"
   ]
  },
  {
   "cell_type": "code",
   "execution_count": 45,
   "id": "70508119",
   "metadata": {},
   "outputs": [
    {
     "data": {
      "image/png": "[encoded data removed]",
      "text/plain": [
       "<Figure size 640x480 with 1 Axes>"
      ]
     },
     "metadata": {},
     "output_type": "display_data"
    },
    {
     "data": {
      "image/png": "[encoded data removed]",
      "text/plain": [
       "<Figure size 640x480 with 1 Axes>"
      ]
     },
     "metadata": {},
     "output_type": "display_data"
    }
   ],
   "source": [
    "# Plot histogram of chi2 scores\n",
    "plt.hist(chi2_scores, bins=500, log=True)\n",
    "plt.title('Histogram of Chi2 Scores')\n",
    "plt.xlabel('Chi2 Score')\n",
    "plt.ylabel('Frequency')\n",
    "plt.show()\n",
    "\n",
    "# Optionally, plot histogram of p-values\n",
    "plt.hist(p_values, bins=500, log=True)\n",
    "plt.xlim([0.9, 1.0])\n",
    "plt.title('Histogram of P-values')\n",
    "plt.xlabel('P-value')\n",
    "plt.ylabel('Frequency')\n",
    "plt.show()"
   ]
  },
  {
   "cell_type": "code",
   "execution_count": 46,
   "id": "23d64440",
   "metadata": {},
   "outputs": [
    {
     "data": {
      "text/plain": [
       "60180"
      ]
     },
     "execution_count": 46,
     "metadata": {},
     "output_type": "execute_result"
    }
   ],
   "source": [
    "len([s for s in p_values if s>0.99])"
   ]
  },
  {
   "cell_type": "code",
   "execution_count": 47,
   "id": "e46b027f",
   "metadata": {},
   "outputs": [
    {
     "data": {
      "text/plain": [
       "30140"
      ]
     },
     "execution_count": 47,
     "metadata": {},
     "output_type": "execute_result"
    }
   ],
   "source": [
    "len([s for s in p_values if s>0.995])"
   ]
  },
  {
   "cell_type": "code",
   "execution_count": 48,
   "id": "e32f6929",
   "metadata": {},
   "outputs": [
    {
     "data": {
      "text/plain": [
       "17554"
      ]
     },
     "execution_count": 48,
     "metadata": {},
     "output_type": "execute_result"
    }
   ],
   "source": [
    "len([s for s in p_values if s>0.997])"
   ]
  },
  {
   "cell_type": "code",
   "execution_count": 49,
   "id": "669ae58e",
   "metadata": {},
   "outputs": [
    {
     "data": {
      "text/plain": [
       "11602"
      ]
     },
     "execution_count": 49,
     "metadata": {},
     "output_type": "execute_result"
    }
   ],
   "source": [
    "len([s for s in p_values if s>0.998])"
   ]
  },
  {
   "cell_type": "code",
   "execution_count": 50,
   "id": "0eb25971",
   "metadata": {},
   "outputs": [
    {
     "data": {
      "text/plain": [
       "5682"
      ]
     },
     "execution_count": 50,
     "metadata": {},
     "output_type": "execute_result"
    }
   ],
   "source": [
    "len([s for s in p_values if s>0.999])"
   ]
  },
  {
   "cell_type": "code",
   "execution_count": 51,
   "id": "5dff23a5",
   "metadata": {},
   "outputs": [],
   "source": [
    "# use p-values to create a boolean mask\n",
    "filtered_feature_names = np.array(filtered_vectorizer.get_feature_names_out())[p_values >= 0.997]"
   ]
  },
  {
   "cell_type": "code",
   "execution_count": 52,
   "id": "67b3cd18",
   "metadata": {},
   "outputs": [
    {
     "data": {
      "text/plain": [
       "array(['ABLE TO GIVE', 'ABOUT ANOTHER', 'ABOUT IT ALSO', ...,\n",
       "       'yet the three bureaus', 'yet they tell', 'zip code and phone'],\n",
       "      dtype=object)"
      ]
     },
     "execution_count": 52,
     "metadata": {},
     "output_type": "execute_result"
    }
   ],
   "source": [
    "filtered_feature_names"
   ]
  },
  {
   "cell_type": "code",
   "execution_count": 53,
   "id": "b73898cf",
   "metadata": {},
   "outputs": [
    {
     "data": {
      "text/plain": [
       "17554"
      ]
     },
     "execution_count": 53,
     "metadata": {},
     "output_type": "execute_result"
    }
   ],
   "source": [
    "len(filtered_feature_names)"
   ]
  },
  {
   "cell_type": "code",
   "execution_count": 56,
   "id": "935904ab",
   "metadata": {},
   "outputs": [
    {
     "data": {
      "text/plain": [
       "array(['ABLE TO GIVE', 'ABOUT ANOTHER', 'ABOUT IT ALSO', ...,\n",
       "       'yet the three bureaus', 'yet they tell', 'zip code and phone'],\n",
       "      dtype=object)"
      ]
     },
     "execution_count": 56,
     "metadata": {},
     "output_type": "execute_result"
    }
   ],
   "source": [
    "filtered_feature_names"
   ]
  },
  {
   "cell_type": "markdown",
   "id": "27885a6f",
   "metadata": {},
   "source": [
    "### Round 4! Get the TF-IDF vectorizer ready"
   ]
  },
  {
   "cell_type": "code",
   "execution_count": 54,
   "id": "8dfd7c7c",
   "metadata": {},
   "outputs": [],
   "source": [
    "# Creating a new vectorizer with your filtered vocabulary, the max_df is actually 0.08 by calculation\n",
    "filtered_vectorizer = TfidfVectorizer(lowercase=False, vocabulary=filtered_feature_names, ngram_range=(1,4), max_df=0.8, min_df=1500)\n",
    "\n",
    "# Fitting the vectorizer and transforming the narratives\n",
    "X = filtered_vectorizer.fit_transform(cfpb_df['Consumer complaint narrative'])"
   ]
  },
  {
   "cell_type": "code",
   "execution_count": 55,
   "id": "940754cb",
   "metadata": {},
   "outputs": [],
   "source": [
    "import pickle\n",
    "\n",
    "# Save the trained vectorizer\n",
    "with open('tfidf_vectorizer.pkl', 'wb') as f:\n",
    "    pickle.dump(filtered_vectorizer, f)"
   ]
  },
  {
   "cell_type": "code",
   "execution_count": null,
   "id": "64762268",
   "metadata": {},
   "outputs": [],
   "source": [
    "# Load the trained vectorizer\n",
    "with open('tfidf_vectorizer.pkl', 'rb') as f:\n",
    "    loaded_vectorizer = pickle.load(f)"
   ]
  }
 ],
 "metadata": {
  "kernelspec": {
   "display_name": "Python 3 (ipykernel)",
   "language": "python",
   "name": "python3"
  },
  "language_info": {
   "codemirror_mode": {
    "name": "ipython",
    "version": 3
   },
   "file_extension": ".py",
   "mimetype": "text/x-python",
   "name": "python",
   "nbconvert_exporter": "python",
   "pygments_lexer": "ipython3",
   "version": "3.9.13"
  }
 },
 "nbformat": 4,
 "nbformat_minor": 5
}
