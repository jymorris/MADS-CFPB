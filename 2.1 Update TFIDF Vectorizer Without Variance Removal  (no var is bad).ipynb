{
 "cells": [
  {
   "cell_type": "code",
   "execution_count": 1,
   "id": "96a906dd",
   "metadata": {},
   "outputs": [],
   "source": [
    "import pandas as pd\n",
    "import numpy as np"
   ]
  },
  {
   "cell_type": "code",
   "execution_count": 2,
   "id": "66bac054",
   "metadata": {},
   "outputs": [
    {
     "name": "stderr",
     "output_type": "stream",
     "text": [
      "[nltk_data] Downloading package stopwords to\n",
      "[nltk_data]     C:\\Users\\JYM\\AppData\\Roaming\\nltk_data...\n",
      "[nltk_data]   Package stopwords is already up-to-date!\n",
      "[nltk_data] Downloading package wordnet to\n",
      "[nltk_data]     C:\\Users\\JYM\\AppData\\Roaming\\nltk_data...\n",
      "[nltk_data]   Package wordnet is already up-to-date!\n",
      "[nltk_data] Downloading package omw-1.4 to\n",
      "[nltk_data]     C:\\Users\\JYM\\AppData\\Roaming\\nltk_data...\n",
      "[nltk_data]   Package omw-1.4 is already up-to-date!\n"
     ]
    }
   ],
   "source": [
    "# for processing\n",
    "import re\n",
    "import nltk\n",
    "from nltk.corpus import stopwords\n",
    "from nltk.tokenize import word_tokenize\n",
    "nltk.download('stopwords')\n",
    "nltk.download('wordnet')\n",
    "nltk.download('omw-1.4')\n",
    "\n",
    "# for bag-of-words\n",
    "from sklearn import feature_extraction, feature_selection, model_selection, naive_bayes, pipeline, manifold, preprocessing, metrics\n",
    "from sklearn.model_selection import train_test_split\n",
    "from sklearn.utils import resample\n",
    "\n",
    "## for train test split\n",
    "import imblearn"
   ]
  },
  {
   "cell_type": "code",
   "execution_count": 3,
   "id": "85ae6e77",
   "metadata": {},
   "outputs": [
    {
     "data": {
      "text/html": [
       "<style>.container { width:100% !important; }</style>"
      ],
      "text/plain": [
       "<IPython.core.display.HTML object>"
      ]
     },
     "metadata": {},
     "output_type": "display_data"
    }
   ],
   "source": [
    "from IPython.display import display, HTML\n",
    "display(HTML(\"<style>.container { width:100% !important; }</style>\"))"
   ]
  },
  {
   "cell_type": "code",
   "execution_count": 4,
   "id": "408b68cb",
   "metadata": {},
   "outputs": [
    {
     "name": "stderr",
     "output_type": "stream",
     "text": [
      "C:\\Users\\JYM\\AppData\\Local\\Temp/ipykernel_41644/889607879.py:1: DtypeWarning: Columns (10) have mixed types. Specify dtype option on import or set low_memory=False.\n",
      "  cfpb_df = pd.read_csv('../../data/CFPB with Duplicate Marked.csv')\n"
     ]
    },
    {
     "name": "stdout",
     "output_type": "stream",
     "text": [
      "Index(['Unnamed: 0', 'Date received', 'Product', 'Sub-product', 'Issue',\n",
      "       'Sub-issue', 'Consumer complaint narrative', 'Company public response',\n",
      "       'Company', 'State', 'ZIP code', 'Tags', 'Consumer consent provided?',\n",
      "       'Submitted via', 'Date sent to company', 'Company response to consumer',\n",
      "       'Timely response?', 'Consumer disputed?', 'Complaint ID', 'narr_len',\n",
      "       'days_to_today', 'dupi_id', 'dupi_len'],\n",
      "      dtype='object')\n",
      "(1300361, 23)\n"
     ]
    }
   ],
   "source": [
    "cfpb_df = pd.read_csv('../../data/CFPB with Duplicate Marked.csv')\n",
    "print(cfpb_df.columns)\n",
    "print(cfpb_df.shape)"
   ]
  },
  {
   "cell_type": "code",
   "execution_count": 5,
   "id": "a0dc6158",
   "metadata": {},
   "outputs": [
    {
     "name": "stdout",
     "output_type": "stream",
     "text": [
      "(1106587, 23)\n",
      "Wall time: 437 ms\n"
     ]
    }
   ],
   "source": [
    "%%time\n",
    "# Drop duplicates based on 'dupi_id' column\n",
    "cfpb_df = cfpb_df.drop_duplicates(subset='dupi_id')\n",
    "print(cfpb_df.shape)"
   ]
  },
  {
   "cell_type": "markdown",
   "id": "be207d97",
   "metadata": {},
   "source": [
    "### Some cleaning and normalizing while trying to keep some the context of data\n",
    "\n",
    "our first try without any normalization did not yield good results, the accuracy was below 50% and the recal for debtcollection is very low"
   ]
  },
  {
   "cell_type": "code",
   "execution_count": 6,
   "id": "9eb5388b",
   "metadata": {},
   "outputs": [],
   "source": [
    "## our choices of stop words\n",
    "lst_stopwords = nltk.corpus.stopwords.words('english')\n",
    "#our choice of stemmer\n",
    "stemm=nltk.stem.porter.PorterStemmer()\n",
    "#our choice of lemmatizer\n",
    "lemm=nltk.stem.wordnet.WordNetLemmatizer()\n",
    "\n",
    "\n",
    "def nltk_text_normalizer(text):\n",
    "    \n",
    "    '''\n",
    "    Preprocess a string using nltk tools.\n",
    "    you need to import nltk\n",
    "    download nltk.download('wordnet')\n",
    "    and from nltk.stem import WordNetLemmatizer\n",
    "    :parameter\n",
    "        :param text: string - name of column containing text\n",
    "        :param stemm: object - stemmer to be used like nltk.stem.porter.PorterStemmer()\n",
    "        :param lemm: object - lemmatizer() to be used, like WordNetLemmatizer() \n",
    "        :param case_folding - whether text will be convert to lower case\n",
    "        :param lst_stopwords - words to be moved\n",
    "    :return\n",
    "        cleaned text\n",
    "    '''\n",
    "    \n",
    "    ## First we will clean up the XXXX maskings in the text created by CFPB\n",
    "    text = re.sub(r'X{2,}', '', str(text).strip())\n",
    "    \n",
    "    ## clean (convert to lowercase and remove punctuations and characters and then strip)\n",
    "    text = re.sub(r'[^\\w\\s]', '', text)\n",
    "    ## clean (convert to lowercase and remove punctuations and characters and then strip)\n",
    "    text = text.lower().strip()\n",
    "            \n",
    "    ## Tokenize (convert from string to list)\n",
    "    ## split is the simplest way\n",
    "    # lst_text = text.split()\n",
    "    ## here we use nltk tools to tokenize a text\n",
    "    lst_text = word_tokenize(text)\n",
    "    \n",
    "    ## remove Stopwords\n",
    "    # lst_text = [word for word in lst_text if word not in lst_stopwords]\n",
    "                \n",
    "    ## Lemmatisation (convert the word into root word)\n",
    "    lst_text = [lemm.lemmatize(word) for word in lst_text]\n",
    "        \n",
    "    ## Stemming (remove -ing, -ly, ...)\n",
    "    ## This stemming parts works pretty bad, but is faster and simplified version of Lemmatization\n",
    "    lst_text = [stemm.stem(word) for word in lst_text]\n",
    "            \n",
    "    ## back to string from list\n",
    "    text = \" \".join(lst_text)\n",
    "    return text\n",
    "\n",
    "def normalize_narr(df):\n",
    "    df['Consumer complaint narrative'] = df['Consumer complaint narrative'].apply(nltk_text_normalizer)\n",
    "    return df"
   ]
  },
  {
   "cell_type": "code",
   "execution_count": 7,
   "id": "81bf2a00",
   "metadata": {},
   "outputs": [
    {
     "name": "stdout",
     "output_type": "stream",
     "text": [
      "Wall time: 45min 35s\n"
     ]
    }
   ],
   "source": [
    "%%time\n",
    "cfpb_df = cfpb_df.groupby(['Product', 'Issue', 'State', 'ZIP code']).apply(func=normalize_narr)"
   ]
  },
  {
   "cell_type": "code",
   "execution_count": 8,
   "id": "681221b7",
   "metadata": {},
   "outputs": [],
   "source": [
    "cfpb_df.to_csv('clean_narr_tmp.csv', index=False)"
   ]
  },
  {
   "cell_type": "code",
   "execution_count": 9,
   "id": "71fcd7f9",
   "metadata": {},
   "outputs": [
    {
     "data": {
      "text/plain": [
       "416519     i should qualifi for the public servic loan fo...\n",
       "65637      start back in midland fund wa call me anywher ...\n",
       "521955     these hard inquiri on my report i do not recog...\n",
       "312187     on 21 i sent a letter regard inaccur and incom...\n",
       "1204250    on i went to use my card and it wa declin when...\n",
       "Name: Consumer complaint narrative, dtype: object"
      ]
     },
     "execution_count": 9,
     "metadata": {},
     "output_type": "execute_result"
    }
   ],
   "source": [
    "cfpb_df['Consumer complaint narrative'].sample(5)"
   ]
  },
  {
   "cell_type": "markdown",
   "id": "88c9bc24",
   "metadata": {},
   "source": [
    "### Round 1! Get all the 1-4-grams from the customer complaints."
   ]
  },
  {
   "cell_type": "code",
   "execution_count": 10,
   "id": "67d8af92",
   "metadata": {},
   "outputs": [
    {
     "data": {
      "text/html": [
       "<style>#sk-container-id-1 {color: black;background-color: white;}#sk-container-id-1 pre{padding: 0;}#sk-container-id-1 div.sk-toggleable {background-color: white;}#sk-container-id-1 label.sk-toggleable__label {cursor: pointer;display: block;width: 100%;margin-bottom: 0;padding: 0.3em;box-sizing: border-box;text-align: center;}#sk-container-id-1 label.sk-toggleable__label-arrow:before {content: \"▸\";float: left;margin-right: 0.25em;color: #696969;}#sk-container-id-1 label.sk-toggleable__label-arrow:hover:before {color: black;}#sk-container-id-1 div.sk-estimator:hover label.sk-toggleable__label-arrow:before {color: black;}#sk-container-id-1 div.sk-toggleable__content {max-height: 0;max-width: 0;overflow: hidden;text-align: left;background-color: #f0f8ff;}#sk-container-id-1 div.sk-toggleable__content pre {margin: 0.2em;color: black;border-radius: 0.25em;background-color: #f0f8ff;}#sk-container-id-1 input.sk-toggleable__control:checked~div.sk-toggleable__content {max-height: 200px;max-width: 100%;overflow: auto;}#sk-container-id-1 input.sk-toggleable__control:checked~label.sk-toggleable__label-arrow:before {content: \"▾\";}#sk-container-id-1 div.sk-estimator input.sk-toggleable__control:checked~label.sk-toggleable__label {background-color: #d4ebff;}#sk-container-id-1 div.sk-label input.sk-toggleable__control:checked~label.sk-toggleable__label {background-color: #d4ebff;}#sk-container-id-1 input.sk-hidden--visually {border: 0;clip: rect(1px 1px 1px 1px);clip: rect(1px, 1px, 1px, 1px);height: 1px;margin: -1px;overflow: hidden;padding: 0;position: absolute;width: 1px;}#sk-container-id-1 div.sk-estimator {font-family: monospace;background-color: #f0f8ff;border: 1px dotted black;border-radius: 0.25em;box-sizing: border-box;margin-bottom: 0.5em;}#sk-container-id-1 div.sk-estimator:hover {background-color: #d4ebff;}#sk-container-id-1 div.sk-parallel-item::after {content: \"\";width: 100%;border-bottom: 1px solid gray;flex-grow: 1;}#sk-container-id-1 div.sk-label:hover label.sk-toggleable__label {background-color: #d4ebff;}#sk-container-id-1 div.sk-serial::before {content: \"\";position: absolute;border-left: 1px solid gray;box-sizing: border-box;top: 0;bottom: 0;left: 50%;z-index: 0;}#sk-container-id-1 div.sk-serial {display: flex;flex-direction: column;align-items: center;background-color: white;padding-right: 0.2em;padding-left: 0.2em;position: relative;}#sk-container-id-1 div.sk-item {position: relative;z-index: 1;}#sk-container-id-1 div.sk-parallel {display: flex;align-items: stretch;justify-content: center;background-color: white;position: relative;}#sk-container-id-1 div.sk-item::before, #sk-container-id-1 div.sk-parallel-item::before {content: \"\";position: absolute;border-left: 1px solid gray;box-sizing: border-box;top: 0;bottom: 0;left: 50%;z-index: -1;}#sk-container-id-1 div.sk-parallel-item {display: flex;flex-direction: column;z-index: 1;position: relative;background-color: white;}#sk-container-id-1 div.sk-parallel-item:first-child::after {align-self: flex-end;width: 50%;}#sk-container-id-1 div.sk-parallel-item:last-child::after {align-self: flex-start;width: 50%;}#sk-container-id-1 div.sk-parallel-item:only-child::after {width: 0;}#sk-container-id-1 div.sk-dashed-wrapped {border: 1px dashed gray;margin: 0 0.4em 0.5em 0.4em;box-sizing: border-box;padding-bottom: 0.4em;background-color: white;}#sk-container-id-1 div.sk-label label {font-family: monospace;font-weight: bold;display: inline-block;line-height: 1.2em;}#sk-container-id-1 div.sk-label-container {text-align: center;}#sk-container-id-1 div.sk-container {/* jupyter's `normalize.less` sets `[hidden] { display: none; }` but bootstrap.min.css set `[hidden] { display: none !important; }` so we also need the `!important` here to be able to override the default hidden behavior on the sphinx rendered scikit-learn.org. See: https://github.com/scikit-learn/scikit-learn/issues/21755 */display: inline-block !important;position: relative;}#sk-container-id-1 div.sk-text-repr-fallback {display: none;}</style><div id=\"sk-container-id-1\" class=\"sk-top-container\"><div class=\"sk-text-repr-fallback\"><pre>TfidfVectorizer(lowercase=False, ngram_range=(1, 4))</pre><b>In a Jupyter environment, please rerun this cell to show the HTML representation or trust the notebook. <br />On GitHub, the HTML representation is unable to render, please try loading this page with nbviewer.org.</b></div><div class=\"sk-container\" hidden><div class=\"sk-item\"><div class=\"sk-estimator sk-toggleable\"><input class=\"sk-toggleable__control sk-hidden--visually\" id=\"sk-estimator-id-1\" type=\"checkbox\" checked><label for=\"sk-estimator-id-1\" class=\"sk-toggleable__label sk-toggleable__label-arrow\">TfidfVectorizer</label><div class=\"sk-toggleable__content\"><pre>TfidfVectorizer(lowercase=False, ngram_range=(1, 4))</pre></div></div></div></div></div>"
      ],
      "text/plain": [
       "TfidfVectorizer(lowercase=False, ngram_range=(1, 4))"
      ]
     },
     "execution_count": 10,
     "metadata": {},
     "output_type": "execute_result"
    }
   ],
   "source": [
    "from sklearn.feature_extraction.text import CountVectorizer, TfidfVectorizer\n",
    "vectorizer = TfidfVectorizer(lowercase = False,ngram_range = (1,4))\n",
    "vectorizer.fit(cfpb_df['Consumer complaint narrative'])\n",
    "# This takes about 36GB RAM"
   ]
  },
  {
   "cell_type": "code",
   "execution_count": 11,
   "id": "0b830124",
   "metadata": {},
   "outputs": [],
   "source": [
    "# Extract the vocabulary and idf score\n",
    "ngrams = vectorizer.get_feature_names_out()\n",
    "# This takes about 31GB RAM"
   ]
  },
  {
   "cell_type": "code",
   "execution_count": 12,
   "id": "3cbd8a7b",
   "metadata": {},
   "outputs": [
    {
     "name": "stdout",
     "output_type": "stream",
     "text": [
      "102833849\n"
     ]
    }
   ],
   "source": [
    "print(len(ngrams))"
   ]
  },
  {
   "cell_type": "code",
   "execution_count": 13,
   "id": "e6656e83",
   "metadata": {},
   "outputs": [
    {
     "name": "stdout",
     "output_type": "stream",
     "text": [
      "Wall time: 1min 23s\n"
     ]
    }
   ],
   "source": [
    "%%time\n",
    "stop_words = set(stopwords.words('english'))\n",
    "number_pattern = re.compile(r'^\\d+|\\d+$')  # match numbers at the start or end of a string\n",
    "# regular expression to match repeating characters\n",
    "repeating_chars_pattern = re.compile(r'^(.)\\1*$')\n",
    "\n",
    "filtered_vocab = {}\n",
    "\n",
    "def clean_features(ngram):\n",
    "    words = ngram.split()  # splits the n-gram into individual words\n",
    "    # check if the n-gram starts/ends with a stop word or a number\n",
    "    if (words[0] in stop_words or words[-1] in stop_words) or (number_pattern.match(words[0]) or number_pattern.match(words[-1]) or (repeating_chars_pattern.match(words[0]) or repeating_chars_pattern.match(words[-1]))):\n",
    "        return False\n",
    "    return True\n",
    "\n",
    "ngrams_to_keep = [ngram for ngram in ngrams if clean_features(ngram)]"
   ]
  },
  {
   "cell_type": "code",
   "execution_count": 14,
   "id": "c7efe5cf",
   "metadata": {},
   "outputs": [
    {
     "name": "stdout",
     "output_type": "stream",
     "text": [
      "41212854\n"
     ]
    }
   ],
   "source": [
    "print(len(ngrams_to_keep))"
   ]
  },
  {
   "cell_type": "markdown",
   "id": "81c917bb",
   "metadata": {},
   "source": [
    "### Round 2! Find proper document frequency thresholds\n",
    "no new vocab is generated in this step"
   ]
  },
  {
   "cell_type": "code",
   "execution_count": 15,
   "id": "5a47300d",
   "metadata": {},
   "outputs": [
    {
     "name": "stdout",
     "output_type": "stream",
     "text": [
      "Wall time: 8min 32s\n"
     ]
    }
   ],
   "source": [
    "%%time\n",
    "from sklearn.feature_extraction.text import CountVectorizer, TfidfVectorizer\n",
    "from collections import Counter\n",
    "import matplotlib.pyplot as plt\n",
    "\n",
    "# Creating a new vectorizer with your filtered vocabulary\n",
    "filtered_vectorizer = TfidfVectorizer(lowercase=False, vocabulary=ngrams_to_keep, ngram_range=(1,4))\n",
    "\n",
    "# Fitting the vectorizer and transforming the narratives\n",
    "X = filtered_vectorizer.fit_transform(cfpb_df['Consumer complaint narrative'])"
   ]
  },
  {
   "cell_type": "code",
   "execution_count": 16,
   "id": "6b445c22",
   "metadata": {},
   "outputs": [],
   "source": [
    "# Get the term frequencies\n",
    "tf = np.sum(X, axis=0).A1\n",
    "\n",
    "# Get the document frequencies\n",
    "df = np.sum((X > 0), axis=0).A1"
   ]
  },
  {
   "cell_type": "code",
   "execution_count": 17,
   "id": "dcdf2d7d",
   "metadata": {},
   "outputs": [
    {
     "data": {
      "image/png": "[encoded data removed]",
      "text/plain": [
       "<Figure size 1000x1000 with 2 Axes>"
      ]
     },
     "metadata": {},
     "output_type": "display_data"
    }
   ],
   "source": [
    "# Creating histograms for Term Frequencies and Document Frequencies\n",
    "fig, axs = plt.subplots(2, figsize=(10, 10))\n",
    "\n",
    "axs[0].hist(tf, bins=10000)\n",
    "axs[0].set_title('Term Frequencies')\n",
    "axs[0].set_yscale('log')  # Using log scale for better visualization\n",
    "axs[0].set_xlim([0, 50000])  # Set x-axis limit to 0-5000\n",
    "\n",
    "\n",
    "axs[1].hist(df, bins=10000)\n",
    "axs[1].set_title('Document Frequencies')\n",
    "axs[1].set_yscale('log')  # Using log scale for better visualization\n",
    "axs[1].set_xlim([0, 50000])  # Set x-axis limit to 0-5000\n",
    "\n",
    "\n",
    "plt.tight_layout()\n",
    "plt.show()"
   ]
  },
  {
   "cell_type": "code",
   "execution_count": 18,
   "id": "5c5e708f",
   "metadata": {},
   "outputs": [
    {
     "data": {
      "image/png": "[encoded data removed]",
      "text/plain": [
       "<Figure size 1000x1000 with 2 Axes>"
      ]
     },
     "metadata": {},
     "output_type": "display_data"
    }
   ],
   "source": [
    "# Creating histograms for Term Frequencies and Document Frequencies\n",
    "fig, axs = plt.subplots(2, figsize=(10, 10))\n",
    "\n",
    "axs[0].hist(tf, bins=10000)\n",
    "axs[0].set_title('Term Frequencies')\n",
    "axs[0].set_yscale('log')  # Using log scale for better visualization\n",
    "axs[0].set_xlim([0, 5000])  # Set x-axis limit to 0-5000\n",
    "\n",
    "\n",
    "axs[1].hist(df, bins=10000)\n",
    "axs[1].set_title('Document Frequencies')\n",
    "axs[1].set_yscale('log')  # Using log scale for better visualization\n",
    "axs[1].set_xlim([0, 10000])  # Set x-axis limit to 0-5000\n",
    "\n",
    "\n",
    "plt.tight_layout()\n",
    "plt.show()"
   ]
  },
  {
   "cell_type": "markdown",
   "id": "307cc08a",
   "metadata": {},
   "source": [
    "We can see the historgram faltterned out after 800000, this suggest that even the most frequent tokens appeared 0.07 of the total complaints number, suggesting a max_df of 0.08. In this situation, even we set the max_df to 0.8, there won't be much feature can be captured. On the other hand, the histrogram shows a sharp drop after 2000, suggesting a good threshold to drop the rearer n-grams to be 1500 documents."
   ]
  },
  {
   "cell_type": "markdown",
   "id": "6efcbd9e",
   "metadata": {},
   "source": [
    "### Round 3! Further Reduce n-gram Features By through variance"
   ]
  },
  {
   "cell_type": "code",
   "execution_count": 19,
   "id": "bae14bcf",
   "metadata": {},
   "outputs": [],
   "source": [
    "# %%time\n",
    "# from sklearn.feature_extraction.text import CountVectorizer, TfidfVectorizer\n",
    "# from collections import Counter\n",
    "# import matplotlib.pyplot as plt\n",
    "\n",
    "# # Creating a new vectorizer with your filtered vocabulary, the max_df is actually 0.08 by calculation\n",
    "# filtered_vectorizer = TfidfVectorizer(lowercase=False, vocabulary=ngrams_to_keep, ngram_range=(1,4), max_df=0.8, min_df=500)\n",
    "\n",
    "# # Fitting the vectorizer and transforming the narratives\n",
    "# X = filtered_vectorizer.fit_transform(cfpb_df['Consumer complaint narrative'])"
   ]
  },
  {
   "cell_type": "code",
   "execution_count": 20,
   "id": "07f9eec9",
   "metadata": {},
   "outputs": [],
   "source": [
    "# print(len(filtered_vectorizer.get_feature_names_out()))"
   ]
  },
  {
   "cell_type": "code",
   "execution_count": 21,
   "id": "9ea82c54",
   "metadata": {},
   "outputs": [
    {
     "name": "stdout",
     "output_type": "stream",
     "text": [
      "Wall time: 0 ns\n"
     ]
    }
   ],
   "source": [
    "%%time\n",
    "# # Compute mean\n",
    "# means = np.array(X.mean(axis=0)).ravel()\n",
    "\n",
    "# # Compute variance\n",
    "# variances = np.array((X.multiply(X) - 2 * X.multiply(means)).mean(axis=0) + means**2).ravel()\n",
    "\n",
    "# # Plotting histogram of variances\n",
    "# plt.figure(figsize=(10,5))\n",
    "# plt.hist(variances, bins=50, log=True)\n",
    "# plt.xlabel('Variance')\n",
    "# plt.ylabel('Frequency')\n",
    "# plt.title('Histogram of feature variances')\n",
    "# plt.show()"
   ]
  },
  {
   "cell_type": "code",
   "execution_count": 22,
   "id": "ab610aae",
   "metadata": {},
   "outputs": [],
   "source": [
    "# # Define your threshold\n",
    "# threshold = 0.000001# 0.00001 * (1 - 0.00001)\n",
    "\n",
    "# # Get all feature names\n",
    "# feature_names = filtered_vectorizer.get_feature_names_out()\n",
    "# print(len(feature_names))\n",
    "# # Filter the feature names based on your variance threshold\n",
    "# filtered_feature_names = [feature for feature, var in zip(feature_names, variances) if var >= threshold]\n",
    "# print(len(filtered_feature_names))"
   ]
  },
  {
   "cell_type": "markdown",
   "id": "9d97c8ac",
   "metadata": {},
   "source": [
    "### Round 4! Further Reduce n-gram Features By through correlation"
   ]
  },
  {
   "cell_type": "code",
   "execution_count": 23,
   "id": "ea8b7b56",
   "metadata": {},
   "outputs": [
    {
     "name": "stdout",
     "output_type": "stream",
     "text": [
      "Wall time: 8min 22s\n"
     ]
    }
   ],
   "source": [
    "%%time\n",
    "filtered_vectorizer = TfidfVectorizer(lowercase=False, vocabulary=ngrams_to_keep, ngram_range=(1,4), max_df=0.8, min_df=500)\n",
    "# ngrams_to_keep\n",
    "# Fitting the vectorizer and transforming the narratives\n",
    "X = filtered_vectorizer.fit_transform(cfpb_df['Consumer complaint narrative'])"
   ]
  },
  {
   "cell_type": "code",
   "execution_count": 24,
   "id": "779d1f33",
   "metadata": {},
   "outputs": [
    {
     "name": "stdout",
     "output_type": "stream",
     "text": [
      "Wall time: 10.1 s\n"
     ]
    }
   ],
   "source": [
    "%%time\n",
    "from sklearn.feature_selection import chi2\n",
    "# Compute chi2 scores and p-values for all features\n",
    "y = cfpb_df.Product.apply(lambda x: 1 if x==\"Debt collection\" else 0)\n",
    "chi2_scores, p_values = chi2(X, y)"
   ]
  },
  {
   "cell_type": "code",
   "execution_count": 25,
   "id": "3b309e77",
   "metadata": {},
   "outputs": [
    {
     "data": {
      "image/png": "[encoded data removed]",
      "text/plain": [
       "<Figure size 640x480 with 1 Axes>"
      ]
     },
     "metadata": {},
     "output_type": "display_data"
    },
    {
     "data": {
      "image/png": "[encoded data removed]",
      "text/plain": [
       "<Figure size 640x480 with 1 Axes>"
      ]
     },
     "metadata": {},
     "output_type": "display_data"
    }
   ],
   "source": [
    "# Plot histogram of chi2 scores\n",
    "plt.hist(chi2_scores, bins=500, log=True)\n",
    "plt.title('Histogram of Chi2 Scores')\n",
    "plt.xlabel('Chi2 Score')\n",
    "plt.ylabel('Frequency')\n",
    "plt.show()\n",
    "\n",
    "# Optionally, plot histogram of p-values\n",
    "plt.hist(p_values, bins=500, log=True)\n",
    "# plt.xlim([0.9, 1.0])\n",
    "plt.title('Histogram of P-values')\n",
    "plt.xlabel('P-value')\n",
    "plt.ylabel('Frequency')\n",
    "plt.show()"
   ]
  },
  {
   "cell_type": "code",
   "execution_count": 26,
   "id": "248c7cc7",
   "metadata": {},
   "outputs": [
    {
     "data": {
      "text/plain": [
       "70333"
      ]
     },
     "execution_count": 26,
     "metadata": {},
     "output_type": "execute_result"
    }
   ],
   "source": [
    "len([s for s in p_values if s < 0.05])"
   ]
  },
  {
   "cell_type": "code",
   "execution_count": 27,
   "id": "5b2c89e1",
   "metadata": {},
   "outputs": [
    {
     "data": {
      "text/plain": [
       "38193"
      ]
     },
     "execution_count": 27,
     "metadata": {},
     "output_type": "execute_result"
    }
   ],
   "source": [
    "len([s for s in p_values if s < 0.01])"
   ]
  },
  {
   "cell_type": "code",
   "execution_count": 28,
   "id": "898a2962",
   "metadata": {},
   "outputs": [
    {
     "data": {
      "text/plain": [
       "31726"
      ]
     },
     "execution_count": 28,
     "metadata": {},
     "output_type": "execute_result"
    }
   ],
   "source": [
    "len([s for s in p_values if s < 0.005])"
   ]
  },
  {
   "cell_type": "code",
   "execution_count": 29,
   "id": "d0f65ab3",
   "metadata": {},
   "outputs": [
    {
     "data": {
      "text/plain": [
       "26998"
      ]
     },
     "execution_count": 29,
     "metadata": {},
     "output_type": "execute_result"
    }
   ],
   "source": [
    "len([s for s in p_values if s < 0.0025])"
   ]
  },
  {
   "cell_type": "code",
   "execution_count": 30,
   "id": "5e43d532",
   "metadata": {},
   "outputs": [
    {
     "data": {
      "text/plain": [
       "15606"
      ]
     },
     "execution_count": 30,
     "metadata": {},
     "output_type": "execute_result"
    }
   ],
   "source": [
    "len([s for s in p_values if s < 0.0001])"
   ]
  },
  {
   "cell_type": "code",
   "execution_count": 31,
   "id": "cfafaaee",
   "metadata": {},
   "outputs": [],
   "source": [
    "# use p-values to create a boolean mask\n",
    "filtered_feature_names_0995 = np.array(filtered_vectorizer.get_feature_names_out())[p_values < 0.005]\n",
    "filtered_feature_names_0996 = np.array(filtered_vectorizer.get_feature_names_out())[p_values < 0.004]\n",
    "filtered_feature_names_0997 = np.array(filtered_vectorizer.get_feature_names_out())[p_values < 0.003]\n",
    "filtered_feature_names_0998 = np.array(filtered_vectorizer.get_feature_names_out())[p_values < 0.002]\n",
    "filtered_feature_names_0999 = np.array(filtered_vectorizer.get_feature_names_out())[p_values < 0.001]"
   ]
  },
  {
   "cell_type": "code",
   "execution_count": 32,
   "id": "99e25029",
   "metadata": {},
   "outputs": [
    {
     "name": "stdout",
     "output_type": "stream",
     "text": [
      "31726\n",
      "29906\n",
      "28033\n",
      "25669\n",
      "22407\n"
     ]
    }
   ],
   "source": [
    "print(len(filtered_feature_names_0995))\n",
    "print(len(filtered_feature_names_0996))\n",
    "print(len(filtered_feature_names_0997))\n",
    "print(len(filtered_feature_names_0998))\n",
    "print(len(filtered_feature_names_0999))"
   ]
  },
  {
   "cell_type": "markdown",
   "id": "786f1fba",
   "metadata": {},
   "source": [
    "### Round 5! Get the TF-IDF vectorizers ready, we will create 5 according for different thresholds and computational power"
   ]
  },
  {
   "cell_type": "code",
   "execution_count": 33,
   "id": "1659e184",
   "metadata": {},
   "outputs": [],
   "source": [
    "import pickle"
   ]
  },
  {
   "cell_type": "code",
   "execution_count": 34,
   "id": "06039fb4",
   "metadata": {},
   "outputs": [],
   "source": [
    "# Creating a new vectorizer with your filtered vocabulary, the max_df is actually 0.08 by calculation\n",
    "filtered_vectorizer = TfidfVectorizer(lowercase=False, vocabulary=filtered_feature_names_0995, ngram_range=(1,4), max_df=0.8, min_df=500)\n",
    "# Fitting the vectorizer and transforming the narratives\n",
    "X = filtered_vectorizer.fit_transform(cfpb_df['Consumer complaint narrative'])\n",
    "# Save the trained vectorizer\n",
    "with open('tfidf_vectorizer_995_no_var.pkl', 'wb') as f:\n",
    "    pickle.dump(filtered_vectorizer, f)"
   ]
  },
  {
   "cell_type": "code",
   "execution_count": 35,
   "id": "f5e4c9b4",
   "metadata": {},
   "outputs": [],
   "source": [
    "# Creating a new vectorizer with your filtered vocabulary, the max_df is actually 0.08 by calculation\n",
    "filtered_vectorizer = TfidfVectorizer(lowercase=False, vocabulary=filtered_feature_names_0996, ngram_range=(1,4), max_df=0.8, min_df=500)\n",
    "# Fitting the vectorizer and transforming the narratives\n",
    "X = filtered_vectorizer.fit_transform(cfpb_df['Consumer complaint narrative'])\n",
    "# Save the trained vectorizer\n",
    "with open('tfidf_vectorizer_996_no_var.pkl', 'wb') as f:\n",
    "    pickle.dump(filtered_vectorizer, f)"
   ]
  },
  {
   "cell_type": "code",
   "execution_count": 36,
   "id": "3ddf37fa",
   "metadata": {},
   "outputs": [],
   "source": [
    "# Creating a new vectorizer with your filtered vocabulary, the max_df is actually 0.08 by calculation\n",
    "filtered_vectorizer = TfidfVectorizer(lowercase=False, vocabulary=filtered_feature_names_0997, ngram_range=(1,4), max_df=0.8, min_df=500)\n",
    "# Fitting the vectorizer and transforming the narratives\n",
    "X = filtered_vectorizer.fit_transform(cfpb_df['Consumer complaint narrative'])\n",
    "# Save the trained vectorizer\n",
    "with open('tfidf_vectorizer_997_no_var.pkl', 'wb') as f:\n",
    "    pickle.dump(filtered_vectorizer, f)"
   ]
  },
  {
   "cell_type": "code",
   "execution_count": 37,
   "id": "20b8c8df",
   "metadata": {},
   "outputs": [],
   "source": [
    "# Creating a new vectorizer with your filtered vocabulary, the max_df is actually 0.08 by calculation\n",
    "filtered_vectorizer = TfidfVectorizer(lowercase=False, vocabulary=filtered_feature_names_0998, ngram_range=(1,4), max_df=0.8, min_df=500)\n",
    "# Fitting the vectorizer and transforming the narratives\n",
    "X = filtered_vectorizer.fit_transform(cfpb_df['Consumer complaint narrative'])\n",
    "# Save the trained vectorizer\n",
    "with open('tfidf_vectorizer_998_no_var.pkl', 'wb') as f:\n",
    "    pickle.dump(filtered_vectorizer, f)"
   ]
  },
  {
   "cell_type": "code",
   "execution_count": 38,
   "id": "07dca76b",
   "metadata": {},
   "outputs": [],
   "source": [
    "# Creating a new vectorizer with your filtered vocabulary, the max_df is actually 0.08 by calculation\n",
    "filtered_vectorizer = TfidfVectorizer(lowercase=False, vocabulary=filtered_feature_names_0999, ngram_range=(1,4), max_df=0.8, min_df=500)\n",
    "# Fitting the vectorizer and transforming the narratives\n",
    "X = filtered_vectorizer.fit_transform(cfpb_df['Consumer complaint narrative'])\n",
    "# Save the trained vectorizer\n",
    "with open('tfidf_vectorizer_999_no_var.pkl', 'wb') as f:\n",
    "    pickle.dump(filtered_vectorizer, f)"
   ]
  },
  {
   "cell_type": "code",
   "execution_count": 39,
   "id": "d0643623",
   "metadata": {},
   "outputs": [],
   "source": [
    "# # Load the trained vectorizer\n",
    "# with open('tfidf_vectorizer.pkl', 'rb') as f:\n",
    "#     loaded_vectorizer = pickle.load(f)"
   ]
  },
  {
   "cell_type": "code",
   "execution_count": null,
   "id": "066cefd5",
   "metadata": {},
   "outputs": [],
   "source": []
  }
 ],
 "metadata": {
  "kernelspec": {
   "display_name": "Python 3 (ipykernel)",
   "language": "python",
   "name": "python3"
  },
  "language_info": {
   "codemirror_mode": {
    "name": "ipython",
    "version": 3
   },
   "file_extension": ".py",
   "mimetype": "text/x-python",
   "name": "python",
   "nbconvert_exporter": "python",
   "pygments_lexer": "ipython3",
   "version": "3.9.13"
  }
 },
 "nbformat": 4,
 "nbformat_minor": 5
}
